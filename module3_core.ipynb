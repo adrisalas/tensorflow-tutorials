{
 "cells": [
  {
   "cell_type": "code",
   "execution_count": 74,
   "metadata": {
    "collapsed": true
   },
   "outputs": [
    {
     "data": {
      "text/plain": "(0.0, 6.0, 0.0, 20.0)"
     },
     "execution_count": 74,
     "metadata": {},
     "output_type": "execute_result"
    },
    {
     "data": {
      "text/plain": "<Figure size 432x288 with 1 Axes>",
      "image/png": "[encoded data removed]"
     },
     "metadata": {
      "needs_background": "light"
     },
     "output_type": "display_data"
    }
   ],
   "source": [
    "# Linear Regression\n",
    "# y = mx + b\n",
    "import matplotlib.pyplot as plt\n",
    "import numpy as np\n",
    "\n",
    "x = [1, 2, 2.5, 3, 4]\n",
    "y = [1, 4, 7, 9, 15]\n",
    "plt.plot(x, y, 'ro')\n",
    "plt.axis([0, 6, 0, 20])"
   ]
  },
  {
   "cell_type": "code",
   "execution_count": 75,
   "outputs": [
    {
     "data": {
      "text/plain": "<Figure size 432x288 with 1 Axes>",
      "image/png": "[encoded data removed]"
     },
     "metadata": {
      "needs_background": "light"
     },
     "output_type": "display_data"
    }
   ],
   "source": [
    "plt.plot(x,y, 'ro')\n",
    "plt.axis([0,6,0,20])\n",
    "plt.plot(np.unique(x), np.poly1d(np.polyfit(x,y,1))(np.unique(x)))\n",
    "plt.show()"
   ],
   "metadata": {
    "collapsed": false,
    "pycharm": {
     "name": "#%%\n"
    }
   }
  },
  {
   "cell_type": "code",
   "execution_count": 76,
   "outputs": [],
   "source": [
    "# Setup and imports\n",
    "from __future__ import absolute_import, division, print_function, unicode_literals\n",
    "\n",
    "import numpy as np\n",
    "import pandas as pd\n",
    "import matplotlib.pyplot as plt\n",
    "\n",
    "from IPython.display import clear_output\n",
    "\n",
    "from tensorflow import feature_column as fc\n",
    "import tensorflow as tf"
   ],
   "metadata": {
    "collapsed": false,
    "pycharm": {
     "name": "#%%\n"
    }
   }
  },
  {
   "cell_type": "code",
   "execution_count": 77,
   "outputs": [],
   "source": [
    "# Titanic dataset\n",
    "dftrain = pd.read_csv('https://storage.googleapis.com/tf-datasets/titanic/train.csv')\n",
    "dfeval = pd.read_csv('https://storage.googleapis.com/tf-datasets/titanic/eval.csv')\n",
    "y_train = dftrain.pop('survived')\n",
    "y_eval = dfeval.pop('survived')"
   ],
   "metadata": {
    "collapsed": false,
    "pycharm": {
     "name": "#%%\n"
    }
   }
  },
  {
   "cell_type": "code",
   "execution_count": 78,
   "outputs": [
    {
     "data": {
      "text/plain": "      sex   age  n_siblings_spouses  parch     fare  class     deck  \\\n0    male  22.0                   1      0   7.2500  Third  unknown   \n1  female  38.0                   1      0  71.2833  First        C   \n2  female  26.0                   0      0   7.9250  Third  unknown   \n3  female  35.0                   1      0  53.1000  First        C   \n4    male  28.0                   0      0   8.4583  Third  unknown   \n\n   embark_town alone  \n0  Southampton     n  \n1    Cherbourg     n  \n2  Southampton     y  \n3  Southampton     n  \n4   Queenstown     y  ",
      "text/html": "<div>\n<style scoped>\n    .dataframe tbody tr th:only-of-type {\n        vertical-align: middle;\n    }\n\n    .dataframe tbody tr th {\n        vertical-align: top;\n    }\n\n    .dataframe thead th {\n        text-align: right;\n    }\n</style>\n<table border=\"1\" class=\"dataframe\">\n  <thead>\n    <tr style=\"text-align: right;\">\n      <th></th>\n      <th>sex</th>\n      <th>age</th>\n      <th>n_siblings_spouses</th>\n      <th>parch</th>\n      <th>fare</th>\n      <th>class</th>\n      <th>deck</th>\n      <th>embark_town</th>\n      <th>alone</th>\n    </tr>\n  </thead>\n  <tbody>\n    <tr>\n      <th>0</th>\n      <td>male</td>\n      <td>22.0</td>\n      <td>1</td>\n      <td>0</td>\n      <td>7.2500</td>\n      <td>Third</td>\n      <td>unknown</td>\n      <td>Southampton</td>\n      <td>n</td>\n    </tr>\n    <tr>\n      <th>1</th>\n      <td>female</td>\n      <td>38.0</td>\n      <td>1</td>\n      <td>0</td>\n      <td>71.2833</td>\n      <td>First</td>\n      <td>C</td>\n      <td>Cherbourg</td>\n      <td>n</td>\n    </tr>\n    <tr>\n      <th>2</th>\n      <td>female</td>\n      <td>26.0</td>\n      <td>0</td>\n      <td>0</td>\n      <td>7.9250</td>\n      <td>Third</td>\n      <td>unknown</td>\n      <td>Southampton</td>\n      <td>y</td>\n    </tr>\n    <tr>\n      <th>3</th>\n      <td>female</td>\n      <td>35.0</td>\n      <td>1</td>\n      <td>0</td>\n      <td>53.1000</td>\n      <td>First</td>\n      <td>C</td>\n      <td>Southampton</td>\n      <td>n</td>\n    </tr>\n    <tr>\n      <th>4</th>\n      <td>male</td>\n      <td>28.0</td>\n      <td>0</td>\n      <td>0</td>\n      <td>8.4583</td>\n      <td>Third</td>\n      <td>unknown</td>\n      <td>Queenstown</td>\n      <td>y</td>\n    </tr>\n  </tbody>\n</table>\n</div>"
     },
     "execution_count": 78,
     "metadata": {},
     "output_type": "execute_result"
    }
   ],
   "source": [
    "dftrain.head()"
   ],
   "metadata": {
    "collapsed": false,
    "pycharm": {
     "name": "#%%\n"
    }
   }
  },
  {
   "cell_type": "code",
   "execution_count": 79,
   "outputs": [
    {
     "data": {
      "text/plain": "              age  n_siblings_spouses       parch        fare\ncount  627.000000          627.000000  627.000000  627.000000\nmean    29.631308            0.545455    0.379585   34.385399\nstd     12.511818            1.151090    0.792999   54.597730\nmin      0.750000            0.000000    0.000000    0.000000\n25%     23.000000            0.000000    0.000000    7.895800\n50%     28.000000            0.000000    0.000000   15.045800\n75%     35.000000            1.000000    0.000000   31.387500\nmax     80.000000            8.000000    5.000000  512.329200",
      "text/html": "<div>\n<style scoped>\n    .dataframe tbody tr th:only-of-type {\n        vertical-align: middle;\n    }\n\n    .dataframe tbody tr th {\n        vertical-align: top;\n    }\n\n    .dataframe thead th {\n        text-align: right;\n    }\n</style>\n<table border=\"1\" class=\"dataframe\">\n  <thead>\n    <tr style=\"text-align: right;\">\n      <th></th>\n      <th>age</th>\n      <th>n_siblings_spouses</th>\n      <th>parch</th>\n      <th>fare</th>\n    </tr>\n  </thead>\n  <tbody>\n    <tr>\n      <th>count</th>\n      <td>627.000000</td>\n      <td>627.000000</td>\n      <td>627.000000</td>\n      <td>627.000000</td>\n    </tr>\n    <tr>\n      <th>mean</th>\n      <td>29.631308</td>\n      <td>0.545455</td>\n      <td>0.379585</td>\n      <td>34.385399</td>\n    </tr>\n    <tr>\n      <th>std</th>\n      <td>12.511818</td>\n      <td>1.151090</td>\n      <td>0.792999</td>\n      <td>54.597730</td>\n    </tr>\n    <tr>\n      <th>min</th>\n      <td>0.750000</td>\n      <td>0.000000</td>\n      <td>0.000000</td>\n      <td>0.000000</td>\n    </tr>\n    <tr>\n      <th>25%</th>\n      <td>23.000000</td>\n      <td>0.000000</td>\n      <td>0.000000</td>\n      <td>7.895800</td>\n    </tr>\n    <tr>\n      <th>50%</th>\n      <td>28.000000</td>\n      <td>0.000000</td>\n      <td>0.000000</td>\n      <td>15.045800</td>\n    </tr>\n    <tr>\n      <th>75%</th>\n      <td>35.000000</td>\n      <td>1.000000</td>\n      <td>0.000000</td>\n      <td>31.387500</td>\n    </tr>\n    <tr>\n      <th>max</th>\n      <td>80.000000</td>\n      <td>8.000000</td>\n      <td>5.000000</td>\n      <td>512.329200</td>\n    </tr>\n  </tbody>\n</table>\n</div>"
     },
     "execution_count": 79,
     "metadata": {},
     "output_type": "execute_result"
    }
   ],
   "source": [
    "dftrain.describe()"
   ],
   "metadata": {
    "collapsed": false,
    "pycharm": {
     "name": "#%%\n"
    }
   }
  },
  {
   "cell_type": "code",
   "execution_count": 80,
   "outputs": [
    {
     "data": {
      "text/plain": "(627, 9)"
     },
     "execution_count": 80,
     "metadata": {},
     "output_type": "execute_result"
    }
   ],
   "source": [
    "dftrain.shape"
   ],
   "metadata": {
    "collapsed": false,
    "pycharm": {
     "name": "#%%\n"
    }
   }
  },
  {
   "cell_type": "code",
   "execution_count": 81,
   "outputs": [
    {
     "data": {
      "text/plain": "<AxesSubplot:>"
     },
     "execution_count": 81,
     "metadata": {},
     "output_type": "execute_result"
    },
    {
     "data": {
      "text/plain": "<Figure size 432x288 with 1 Axes>",
      "image/png": "[encoded data removed]"
     },
     "metadata": {
      "needs_background": "light"
     },
     "output_type": "display_data"
    }
   ],
   "source": [
    "dftrain.age.hist(bins=20)"
   ],
   "metadata": {
    "collapsed": false,
    "pycharm": {
     "name": "#%%\n"
    }
   }
  },
  {
   "cell_type": "code",
   "execution_count": 82,
   "outputs": [
    {
     "data": {
      "text/plain": "<AxesSubplot:>"
     },
     "execution_count": 82,
     "metadata": {},
     "output_type": "execute_result"
    },
    {
     "data": {
      "text/plain": "<Figure size 432x288 with 1 Axes>",
      "image/png": "[encoded data removed]"
     },
     "metadata": {
      "needs_background": "light"
     },
     "output_type": "display_data"
    }
   ],
   "source": [
    "dftrain.sex.value_counts().plot(kind='barh')"
   ],
   "metadata": {
    "collapsed": false,
    "pycharm": {
     "name": "#%%\n"
    }
   }
  },
  {
   "cell_type": "code",
   "execution_count": 83,
   "outputs": [
    {
     "data": {
      "text/plain": "<AxesSubplot:>"
     },
     "execution_count": 83,
     "metadata": {},
     "output_type": "execute_result"
    },
    {
     "data": {
      "text/plain": "<Figure size 432x288 with 1 Axes>",
      "image/png": "[encoded data removed]"
     },
     "metadata": {
      "needs_background": "light"
     },
     "output_type": "display_data"
    }
   ],
   "source": [
    "dftrain[\"class\"].value_counts().plot(kind=\"barh\")"
   ],
   "metadata": {
    "collapsed": false,
    "pycharm": {
     "name": "#%%\n"
    }
   }
  },
  {
   "cell_type": "code",
   "execution_count": 84,
   "outputs": [
    {
     "data": {
      "text/plain": "Text(0.5, 0, '% survived')"
     },
     "execution_count": 84,
     "metadata": {},
     "output_type": "execute_result"
    },
    {
     "data": {
      "text/plain": "<Figure size 432x288 with 1 Axes>",
      "image/png": "[encoded data removed]"
     },
     "metadata": {
      "needs_background": "light"
     },
     "output_type": "display_data"
    }
   ],
   "source": [
    "pd.concat([dftrain, y_train], axis=1).groupby(\"sex\").survived.mean().plot(kind=\"barh\").set_xlabel(\"% survived\")"
   ],
   "metadata": {
    "collapsed": false,
    "pycharm": {
     "name": "#%%\n"
    }
   }
  },
  {
   "cell_type": "code",
   "execution_count": 85,
   "outputs": [
    {
     "name": "stdout",
     "output_type": "stream",
     "text": [
      "[VocabularyListCategoricalColumn(key='sex', vocabulary_list=('male', 'female'), dtype=tf.string, default_value=-1, num_oov_buckets=0), VocabularyListCategoricalColumn(key='n_siblings_spouses', vocabulary_list=(1, 0, 3, 4, 2, 5, 8), dtype=tf.int64, default_value=-1, num_oov_buckets=0), VocabularyListCategoricalColumn(key='parch', vocabulary_list=(0, 1, 2, 5, 3, 4), dtype=tf.int64, default_value=-1, num_oov_buckets=0), VocabularyListCategoricalColumn(key='class', vocabulary_list=('Third', 'First', 'Second'), dtype=tf.string, default_value=-1, num_oov_buckets=0), VocabularyListCategoricalColumn(key='deck', vocabulary_list=('unknown', 'C', 'G', 'A', 'B', 'D', 'F', 'E'), dtype=tf.string, default_value=-1, num_oov_buckets=0), VocabularyListCategoricalColumn(key='embark_town', vocabulary_list=('Southampton', 'Cherbourg', 'Queenstown', 'unknown'), dtype=tf.string, default_value=-1, num_oov_buckets=0), VocabularyListCategoricalColumn(key='alone', vocabulary_list=('n', 'y'), dtype=tf.string, default_value=-1, num_oov_buckets=0), NumericColumn(key='age', shape=(1,), default_value=None, dtype=tf.float32, normalizer_fn=None), NumericColumn(key='fare', shape=(1,), default_value=None, dtype=tf.float32, normalizer_fn=None)]\n"
     ]
    }
   ],
   "source": [
    "# Feature Columns\n",
    "CATEGORICAL_COLUMNS = ['sex', 'n_siblings_spouses', 'parch', 'class', 'deck',\n",
    "                       'embark_town', 'alone']\n",
    "NUMERIC_COLUMNS = ['age', 'fare']\n",
    "feature_columns = []\n",
    "\n",
    "for feature_name in CATEGORICAL_COLUMNS:\n",
    "    vocabulary = dftrain[feature_name].unique()\n",
    "    feature_columns.append(tf.feature_column.categorical_column_with_vocabulary_list(feature_name, vocabulary))\n",
    "\n",
    "for feature_name in NUMERIC_COLUMNS:\n",
    "    feature_columns.append(tf.feature_column.numeric_column(feature_name, dtype=tf.float32))\n",
    "\n",
    "print(feature_columns)"
   ],
   "metadata": {
    "collapsed": false,
    "pycharm": {
     "name": "#%%\n"
    }
   }
  },
  {
   "cell_type": "code",
   "execution_count": 86,
   "outputs": [],
   "source": [
    "# Input function: from pandas dataframe to tensorflow dataset\n",
    "def make_input_fn(data_df, label_df, num_epochs=10, shuffle=True, batch_size=32):\n",
    "    def input_fn():\n",
    "        ds = tf.data.Dataset.from_tensor_slices((dict(data_df), label_df))\n",
    "        if shuffle:\n",
    "            ds = ds.shuffle(1000)\n",
    "        ds = ds.batch(batch_size).repeat(num_epochs)\n",
    "        return ds\n",
    "    return input_fn\n",
    "\n",
    "train_input_fn = make_input_fn(dftrain, y_train)\n",
    "eval_input_fn = make_input_fn(dfeval, y_eval, num_epochs=1, shuffle=False)"
   ],
   "metadata": {
    "collapsed": false,
    "pycharm": {
     "name": "#%%\n"
    }
   }
  },
  {
   "cell_type": "code",
   "execution_count": 87,
   "outputs": [
    {
     "name": "stdout",
     "output_type": "stream",
     "text": [
      "INFO:tensorflow:Using default config.\n",
      "WARNING:tensorflow:Using temporary folder as model directory: /tmp/tmpx0o8uj4g\n",
      "INFO:tensorflow:Using config: {'_model_dir': '/tmp/tmpx0o8uj4g', '_tf_random_seed': None, '_save_summary_steps': 100, '_save_checkpoints_steps': None, '_save_checkpoints_secs': 600, '_session_config': allow_soft_placement: true\n",
      "graph_options {\n",
      "  rewrite_options {\n",
      "    meta_optimizer_iterations: ONE\n",
      "  }\n",
      "}\n",
      ", '_keep_checkpoint_max': 5, '_keep_checkpoint_every_n_hours': 10000, '_log_step_count_steps': 100, '_train_distribute': None, '_device_fn': None, '_protocol': None, '_eval_distribute': None, '_experimental_distribute': None, '_experimental_max_worker_delay_secs': None, '_session_creation_timeout_secs': 7200, '_checkpoint_save_graph_def': True, '_service': None, '_cluster_spec': ClusterSpec({}), '_task_type': 'worker', '_task_id': 0, '_global_id_in_cluster': 0, '_master': '', '_evaluation_master': '', '_is_chief': True, '_num_ps_replicas': 0, '_num_worker_replicas': 1}\n"
     ]
    }
   ],
   "source": [
    "# Create the model\n",
    "linear_estimator = tf.estimator.LinearClassifier(feature_columns=feature_columns)"
   ],
   "metadata": {
    "collapsed": false,
    "pycharm": {
     "name": "#%%\n"
    }
   }
  },
  {
   "cell_type": "code",
   "execution_count": 88,
   "outputs": [
    {
     "name": "stdout",
     "output_type": "stream",
     "text": [
      "Accuracy: 0.75\n"
     ]
    }
   ],
   "source": [
    "# Train the model\n",
    "linear_estimator.train(train_input_fn)\n",
    "result = linear_estimator.evaluate(eval_input_fn)\n",
    "\n",
    "clear_output()\n",
    "print(\"Accuracy:\", result['accuracy'])"
   ],
   "metadata": {
    "collapsed": false,
    "pycharm": {
     "name": "#%%\n"
    }
   }
  },
  {
   "cell_type": "code",
   "execution_count": 89,
   "outputs": [
    {
     "name": "stdout",
     "output_type": "stream",
     "text": [
      "sex                          male\n",
      "age                          35.0\n",
      "n_siblings_spouses              0\n",
      "parch                           0\n",
      "fare                         8.05\n",
      "class                       Third\n",
      "deck                      unknown\n",
      "embark_town           Southampton\n",
      "alone                           y\n",
      "Name: 0, dtype: object\n",
      "It survived 0\n",
      "Probability 0.067114756\n"
     ]
    }
   ],
   "source": [
    "result = list(linear_estimator.predict(eval_input_fn))\n",
    "clear_output()\n",
    "print(dfeval.loc[0])\n",
    "print(\"It survived\",y_eval.loc[0])\n",
    "print(\"Probability\", result[0]['probabilities'][1])"
   ],
   "metadata": {
    "collapsed": false,
    "pycharm": {
     "name": "#%%\n"
    }
   }
  },
  {
   "cell_type": "code",
   "execution_count": 90,
   "outputs": [
    {
     "data": {
      "text/plain": "<AxesSubplot:title={'center':'Probabilities of surviving'}, ylabel='Frequency'>"
     },
     "execution_count": 59,
     "metadata": {},
     "output_type": "execute_result"
    },
    {
     "data": {
      "text/plain": "<Figure size 432x288 with 1 Axes>",
      "image/png": "[encoded data removed]"
     },
     "metadata": {
      "needs_background": "light"
     },
     "output_type": "display_data"
    },
    {
     "data": {
      "text/plain": "<AxesSubplot:title={'center':'Probabilities of surviving'}, ylabel='Frequency'>"
     },
     "execution_count": 90,
     "metadata": {},
     "output_type": "execute_result"
    },
    {
     "data": {
      "text/plain": "<Figure size 432x288 with 1 Axes>",
      "image/png": "[encoded data removed]"
     },
     "metadata": {
      "needs_background": "light"
     },
     "output_type": "display_data"
    }
   ],
   "source": [
    "probs = pd.Series([pred['probabilities'][1] for pred in result])\n",
    "probs.plot(kind=\"hist\", bins=20, title=\"Probabilities of surviving\")"
   ],
   "metadata": {
    "collapsed": false,
    "pycharm": {
     "name": "#%%\n"
    }
   }
  },
  {
   "cell_type": "code",
   "execution_count": 91,
   "outputs": [],
   "source": [
    "# Classification\n",
    "\n",
    "CSV_COLUMN_NAMES = ['SepalLength', 'SepalWidth', 'PetalLength', 'PetalWidth', 'Species']\n",
    "SPECIES = ['Setosa', 'Versicolor', 'Virginica']\n",
    "\n",
    "train_path = tf.keras.utils.get_file(\n",
    "    \"iris_training.csv\", \"https://storage.googleapis.com/download.tensorflow.org/data/iris_training.csv\")\n",
    "test_path = tf.keras.utils.get_file(\n",
    "    \"iris_test.csv\", \"https://storage.googleapis.com/download.tensorflow.org/data/iris_test.csv\")\n",
    "\n",
    "train = pd.read_csv(train_path, names=CSV_COLUMN_NAMES, header=0)\n",
    "test = pd.read_csv(test_path, names=CSV_COLUMN_NAMES, header=0)"
   ],
   "metadata": {
    "collapsed": false,
    "pycharm": {
     "name": "#%%\n"
    }
   }
  },
  {
   "cell_type": "code",
   "execution_count": 92,
   "outputs": [
    {
     "data": {
      "text/plain": "   SepalLength  SepalWidth  PetalLength  PetalWidth  Species\n0          6.4         2.8          5.6         2.2        2\n1          5.0         2.3          3.3         1.0        1\n2          4.9         2.5          4.5         1.7        2\n3          4.9         3.1          1.5         0.1        0\n4          5.7         3.8          1.7         0.3        0",
      "text/html": "<div>\n<style scoped>\n    .dataframe tbody tr th:only-of-type {\n        vertical-align: middle;\n    }\n\n    .dataframe tbody tr th {\n        vertical-align: top;\n    }\n\n    .dataframe thead th {\n        text-align: right;\n    }\n</style>\n<table border=\"1\" class=\"dataframe\">\n  <thead>\n    <tr style=\"text-align: right;\">\n      <th></th>\n      <th>SepalLength</th>\n      <th>SepalWidth</th>\n      <th>PetalLength</th>\n      <th>PetalWidth</th>\n      <th>Species</th>\n    </tr>\n  </thead>\n  <tbody>\n    <tr>\n      <th>0</th>\n      <td>6.4</td>\n      <td>2.8</td>\n      <td>5.6</td>\n      <td>2.2</td>\n      <td>2</td>\n    </tr>\n    <tr>\n      <th>1</th>\n      <td>5.0</td>\n      <td>2.3</td>\n      <td>3.3</td>\n      <td>1.0</td>\n      <td>1</td>\n    </tr>\n    <tr>\n      <th>2</th>\n      <td>4.9</td>\n      <td>2.5</td>\n      <td>4.5</td>\n      <td>1.7</td>\n      <td>2</td>\n    </tr>\n    <tr>\n      <th>3</th>\n      <td>4.9</td>\n      <td>3.1</td>\n      <td>1.5</td>\n      <td>0.1</td>\n      <td>0</td>\n    </tr>\n    <tr>\n      <th>4</th>\n      <td>5.7</td>\n      <td>3.8</td>\n      <td>1.7</td>\n      <td>0.3</td>\n      <td>0</td>\n    </tr>\n  </tbody>\n</table>\n</div>"
     },
     "execution_count": 61,
     "metadata": {},
     "output_type": "execute_result"
    },
    {
     "data": {
      "text/plain": "   SepalLength  SepalWidth  PetalLength  PetalWidth  Species\n0          6.4         2.8          5.6         2.2        2\n1          5.0         2.3          3.3         1.0        1\n2          4.9         2.5          4.5         1.7        2\n3          4.9         3.1          1.5         0.1        0\n4          5.7         3.8          1.7         0.3        0",
      "text/html": "<div>\n<style scoped>\n    .dataframe tbody tr th:only-of-type {\n        vertical-align: middle;\n    }\n\n    .dataframe tbody tr th {\n        vertical-align: top;\n    }\n\n    .dataframe thead th {\n        text-align: right;\n    }\n</style>\n<table border=\"1\" class=\"dataframe\">\n  <thead>\n    <tr style=\"text-align: right;\">\n      <th></th>\n      <th>SepalLength</th>\n      <th>SepalWidth</th>\n      <th>PetalLength</th>\n      <th>PetalWidth</th>\n      <th>Species</th>\n    </tr>\n  </thead>\n  <tbody>\n    <tr>\n      <th>0</th>\n      <td>6.4</td>\n      <td>2.8</td>\n      <td>5.6</td>\n      <td>2.2</td>\n      <td>2</td>\n    </tr>\n    <tr>\n      <th>1</th>\n      <td>5.0</td>\n      <td>2.3</td>\n      <td>3.3</td>\n      <td>1.0</td>\n      <td>1</td>\n    </tr>\n    <tr>\n      <th>2</th>\n      <td>4.9</td>\n      <td>2.5</td>\n      <td>4.5</td>\n      <td>1.7</td>\n      <td>2</td>\n    </tr>\n    <tr>\n      <th>3</th>\n      <td>4.9</td>\n      <td>3.1</td>\n      <td>1.5</td>\n      <td>0.1</td>\n      <td>0</td>\n    </tr>\n    <tr>\n      <th>4</th>\n      <td>5.7</td>\n      <td>3.8</td>\n      <td>1.7</td>\n      <td>0.3</td>\n      <td>0</td>\n    </tr>\n  </tbody>\n</table>\n</div>"
     },
     "execution_count": 92,
     "metadata": {},
     "output_type": "execute_result"
    }
   ],
   "source": [
    "train.head()"
   ],
   "metadata": {
    "collapsed": false,
    "pycharm": {
     "name": "#%%\n"
    }
   }
  },
  {
   "cell_type": "code",
   "execution_count": 93,
   "outputs": [],
   "source": [
    "train_y = train.pop('Species')\n",
    "test_y = test.pop('Species')"
   ],
   "metadata": {
    "collapsed": false,
    "pycharm": {
     "name": "#%%\n"
    }
   }
  },
  {
   "cell_type": "code",
   "execution_count": 94,
   "outputs": [
    {
     "data": {
      "text/plain": "(120, 4)"
     },
     "execution_count": 63,
     "metadata": {},
     "output_type": "execute_result"
    },
    {
     "data": {
      "text/plain": "(120, 4)"
     },
     "execution_count": 94,
     "metadata": {},
     "output_type": "execute_result"
    }
   ],
   "source": [
    "train.shape"
   ],
   "metadata": {
    "collapsed": false,
    "pycharm": {
     "name": "#%%\n"
    }
   }
  },
  {
   "cell_type": "code",
   "execution_count": 95,
   "outputs": [],
   "source": [
    "def input_fn(features, labels, training=True, batch_size=256):\n",
    "    dataset = tf.data.Dataset.from_tensor_slices((dict(features),labels))\n",
    "\n",
    "    if training:\n",
    "        dataset = dataset.shuffle(1000).repeat()\n",
    "    return dataset.batch(batch_size)"
   ],
   "metadata": {
    "collapsed": false,
    "pycharm": {
     "name": "#%%\n"
    }
   }
  },
  {
   "cell_type": "code",
   "execution_count": 96,
   "outputs": [
    {
     "name": "stdout",
     "output_type": "stream",
     "text": [
      "[NumericColumn(key='SepalLength', shape=(1,), default_value=None, dtype=tf.float32, normalizer_fn=None), NumericColumn(key='SepalWidth', shape=(1,), default_value=None, dtype=tf.float32, normalizer_fn=None), NumericColumn(key='PetalLength', shape=(1,), default_value=None, dtype=tf.float32, normalizer_fn=None), NumericColumn(key='PetalWidth', shape=(1,), default_value=None, dtype=tf.float32, normalizer_fn=None)]\n",
      "[NumericColumn(key='SepalLength', shape=(1,), default_value=None, dtype=tf.float32, normalizer_fn=None), NumericColumn(key='SepalWidth', shape=(1,), default_value=None, dtype=tf.float32, normalizer_fn=None), NumericColumn(key='PetalLength', shape=(1,), default_value=None, dtype=tf.float32, normalizer_fn=None), NumericColumn(key='PetalWidth', shape=(1,), default_value=None, dtype=tf.float32, normalizer_fn=None)]\n"
     ]
    }
   ],
   "source": [
    "my_feature_columns = []\n",
    "for key in train.keys():\n",
    "    my_feature_columns.append(tf.feature_column.numeric_column(key=key))\n",
    "print(my_feature_columns)"
   ],
   "metadata": {
    "collapsed": false,
    "pycharm": {
     "name": "#%%\n"
    }
   }
  },
  {
   "cell_type": "code",
   "execution_count": 97,
   "outputs": [
    {
     "name": "stdout",
     "output_type": "stream",
     "text": [
      "INFO:tensorflow:Using default config.\n",
      "WARNING:tensorflow:Using temporary folder as model directory: /tmp/tmp4yjckzj5\n",
      "INFO:tensorflow:Using config: {'_model_dir': '/tmp/tmp4yjckzj5', '_tf_random_seed': None, '_save_summary_steps': 100, '_save_checkpoints_steps': None, '_save_checkpoints_secs': 600, '_session_config': allow_soft_placement: true\n",
      "graph_options {\n",
      "  rewrite_options {\n",
      "    meta_optimizer_iterations: ONE\n",
      "  }\n",
      "}\n",
      ", '_keep_checkpoint_max': 5, '_keep_checkpoint_every_n_hours': 10000, '_log_step_count_steps': 100, '_train_distribute': None, '_device_fn': None, '_protocol': None, '_eval_distribute': None, '_experimental_distribute': None, '_experimental_max_worker_delay_secs': None, '_session_creation_timeout_secs': 7200, '_checkpoint_save_graph_def': True, '_service': None, '_cluster_spec': ClusterSpec({}), '_task_type': 'worker', '_task_id': 0, '_global_id_in_cluster': 0, '_master': '', '_evaluation_master': '', '_is_chief': True, '_num_ps_replicas': 0, '_num_worker_replicas': 1}\n",
      "INFO:tensorflow:Using default config.\n",
      "WARNING:tensorflow:Using temporary folder as model directory: /tmp/tmpaiuubpl7\n",
      "INFO:tensorflow:Using config: {'_model_dir': '/tmp/tmpaiuubpl7', '_tf_random_seed': None, '_save_summary_steps': 100, '_save_checkpoints_steps': None, '_save_checkpoints_secs': 600, '_session_config': allow_soft_placement: true\n",
      "graph_options {\n",
      "  rewrite_options {\n",
      "    meta_optimizer_iterations: ONE\n",
      "  }\n",
      "}\n",
      ", '_keep_checkpoint_max': 5, '_keep_checkpoint_every_n_hours': 10000, '_log_step_count_steps': 100, '_train_distribute': None, '_device_fn': None, '_protocol': None, '_eval_distribute': None, '_experimental_distribute': None, '_experimental_max_worker_delay_secs': None, '_session_creation_timeout_secs': 7200, '_checkpoint_save_graph_def': True, '_service': None, '_cluster_spec': ClusterSpec({}), '_task_type': 'worker', '_task_id': 0, '_global_id_in_cluster': 0, '_master': '', '_evaluation_master': '', '_is_chief': True, '_num_ps_replicas': 0, '_num_worker_replicas': 1}\n"
     ]
    }
   ],
   "source": [
    "# Create the model\n",
    "# DNNClassifier (Deep Neural Network Classifier)\n",
    "# LinearClassifier\n",
    "\n",
    "classifier = tf.estimator.DNNClassifier(feature_columns=my_feature_columns,\n",
    "                                        hidden_units=[30,10],\n",
    "                                        n_classes=3)"
   ],
   "metadata": {
    "collapsed": false,
    "pycharm": {
     "name": "#%%\n"
    }
   }
  },
  {
   "cell_type": "code",
   "execution_count": 98,
   "outputs": [
    {
     "name": "stdout",
     "output_type": "stream",
     "text": [
      "INFO:tensorflow:Calling model_fn.\n",
      "INFO:tensorflow:Done calling model_fn.\n",
      "INFO:tensorflow:Create CheckpointSaverHook.\n",
      "INFO:tensorflow:Graph was finalized.\n",
      "INFO:tensorflow:Running local_init_op.\n",
      "INFO:tensorflow:Done running local_init_op.\n"
     ]
    },
    {
     "name": "stderr",
     "output_type": "stream",
     "text": [
      "2022-04-13 11:23:22.316022: I tensorflow/stream_executor/cuda/cuda_gpu_executor.cc:936] successful NUMA node read from SysFS had negative value (-1), but there must be at least one NUMA node, so returning NUMA node zero\n",
      "2022-04-13 11:23:22.316747: W tensorflow/core/common_runtime/gpu/gpu_device.cc:1850] Cannot dlopen some GPU libraries. Please make sure the missing libraries mentioned above are installed properly if you would like to use GPU. Follow the guide at https://www.tensorflow.org/install/gpu for how to download and setup the required libraries for your platform.\n",
      "Skipping registering GPU devices...\n"
     ]
    },
    {
     "name": "stdout",
     "output_type": "stream",
     "text": [
      "INFO:tensorflow:Calling checkpoint listeners before saving checkpoint 0...\n",
      "INFO:tensorflow:Saving checkpoints for 0 into /tmp/tmp4yjckzj5/model.ckpt.\n",
      "INFO:tensorflow:Calling checkpoint listeners after saving checkpoint 0...\n",
      "INFO:tensorflow:loss = 1.2985116, step = 0\n",
      "INFO:tensorflow:global_step/sec: 258.339\n",
      "INFO:tensorflow:loss = 1.1474285, step = 100 (0.388 sec)\n",
      "INFO:tensorflow:global_step/sec: 322.839\n",
      "INFO:tensorflow:loss = 1.078228, step = 200 (0.310 sec)\n",
      "INFO:tensorflow:global_step/sec: 296.699\n",
      "INFO:tensorflow:loss = 1.0267034, step = 300 (0.336 sec)\n",
      "INFO:tensorflow:global_step/sec: 395.72\n",
      "INFO:tensorflow:loss = 0.9840074, step = 400 (0.253 sec)\n",
      "INFO:tensorflow:global_step/sec: 416.996\n",
      "INFO:tensorflow:loss = 0.94887996, step = 500 (0.240 sec)\n",
      "INFO:tensorflow:global_step/sec: 411.004\n",
      "INFO:tensorflow:loss = 0.92124087, step = 600 (0.243 sec)\n",
      "INFO:tensorflow:global_step/sec: 391.833\n",
      "INFO:tensorflow:loss = 0.8920996, step = 700 (0.255 sec)\n",
      "INFO:tensorflow:global_step/sec: 337.477\n",
      "INFO:tensorflow:loss = 0.8659816, step = 800 (0.297 sec)\n",
      "INFO:tensorflow:global_step/sec: 294.268\n",
      "INFO:tensorflow:loss = 0.820598, step = 900 (0.340 sec)\n",
      "INFO:tensorflow:global_step/sec: 361.812\n",
      "INFO:tensorflow:loss = 0.7860365, step = 1000 (0.276 sec)\n",
      "INFO:tensorflow:global_step/sec: 391.817\n",
      "INFO:tensorflow:loss = 0.76382875, step = 1100 (0.255 sec)\n",
      "INFO:tensorflow:global_step/sec: 345.926\n",
      "INFO:tensorflow:loss = 0.73354006, step = 1200 (0.289 sec)\n",
      "INFO:tensorflow:global_step/sec: 403.061\n",
      "INFO:tensorflow:loss = 0.71067613, step = 1300 (0.248 sec)\n",
      "INFO:tensorflow:global_step/sec: 440.768\n",
      "INFO:tensorflow:loss = 0.6904878, step = 1400 (0.227 sec)\n",
      "INFO:tensorflow:global_step/sec: 283.637\n",
      "INFO:tensorflow:loss = 0.673007, step = 1500 (0.353 sec)\n",
      "INFO:tensorflow:global_step/sec: 398.073\n",
      "INFO:tensorflow:loss = 0.6619911, step = 1600 (0.251 sec)\n",
      "INFO:tensorflow:global_step/sec: 333.963\n",
      "INFO:tensorflow:loss = 0.65046424, step = 1700 (0.300 sec)\n",
      "INFO:tensorflow:global_step/sec: 325.76\n",
      "INFO:tensorflow:loss = 0.6216763, step = 1800 (0.307 sec)\n",
      "INFO:tensorflow:global_step/sec: 340.57\n",
      "INFO:tensorflow:loss = 0.6096892, step = 1900 (0.293 sec)\n",
      "INFO:tensorflow:global_step/sec: 394.044\n",
      "INFO:tensorflow:loss = 0.5947943, step = 2000 (0.254 sec)\n",
      "INFO:tensorflow:global_step/sec: 339.912\n",
      "INFO:tensorflow:loss = 0.5922202, step = 2100 (0.294 sec)\n",
      "INFO:tensorflow:global_step/sec: 352.258\n",
      "INFO:tensorflow:loss = 0.5737134, step = 2200 (0.284 sec)\n",
      "INFO:tensorflow:global_step/sec: 381.159\n",
      "INFO:tensorflow:loss = 0.57581675, step = 2300 (0.263 sec)\n",
      "INFO:tensorflow:global_step/sec: 439.469\n",
      "INFO:tensorflow:loss = 0.5591333, step = 2400 (0.226 sec)\n",
      "INFO:tensorflow:global_step/sec: 361.373\n",
      "INFO:tensorflow:loss = 0.5451259, step = 2500 (0.277 sec)\n",
      "INFO:tensorflow:global_step/sec: 371.878\n",
      "INFO:tensorflow:loss = 0.5337733, step = 2600 (0.269 sec)\n",
      "INFO:tensorflow:global_step/sec: 431.762\n",
      "INFO:tensorflow:loss = 0.5293824, step = 2700 (0.232 sec)\n",
      "INFO:tensorflow:global_step/sec: 453.844\n",
      "INFO:tensorflow:loss = 0.51868445, step = 2800 (0.220 sec)\n",
      "INFO:tensorflow:global_step/sec: 456.639\n",
      "INFO:tensorflow:loss = 0.5175695, step = 2900 (0.219 sec)\n",
      "INFO:tensorflow:global_step/sec: 447.997\n",
      "INFO:tensorflow:loss = 0.5189458, step = 3000 (0.223 sec)\n",
      "INFO:tensorflow:global_step/sec: 371.498\n",
      "INFO:tensorflow:loss = 0.5146635, step = 3100 (0.269 sec)\n",
      "INFO:tensorflow:global_step/sec: 351.316\n",
      "INFO:tensorflow:loss = 0.49493575, step = 3200 (0.285 sec)\n",
      "INFO:tensorflow:global_step/sec: 310.286\n",
      "INFO:tensorflow:loss = 0.4955184, step = 3300 (0.322 sec)\n",
      "INFO:tensorflow:global_step/sec: 304.983\n",
      "INFO:tensorflow:loss = 0.5003904, step = 3400 (0.329 sec)\n",
      "INFO:tensorflow:global_step/sec: 313.938\n",
      "INFO:tensorflow:loss = 0.48115796, step = 3500 (0.317 sec)\n",
      "INFO:tensorflow:global_step/sec: 402.396\n",
      "INFO:tensorflow:loss = 0.47951666, step = 3600 (0.249 sec)\n",
      "INFO:tensorflow:global_step/sec: 343.547\n",
      "INFO:tensorflow:loss = 0.46917892, step = 3700 (0.291 sec)\n",
      "INFO:tensorflow:global_step/sec: 342.948\n",
      "INFO:tensorflow:loss = 0.46583614, step = 3800 (0.291 sec)\n",
      "INFO:tensorflow:global_step/sec: 342.08\n",
      "INFO:tensorflow:loss = 0.4665478, step = 3900 (0.293 sec)\n",
      "INFO:tensorflow:global_step/sec: 386.441\n",
      "INFO:tensorflow:loss = 0.4631183, step = 4000 (0.259 sec)\n",
      "INFO:tensorflow:global_step/sec: 418.538\n",
      "INFO:tensorflow:loss = 0.45494723, step = 4100 (0.239 sec)\n",
      "INFO:tensorflow:global_step/sec: 328.769\n",
      "INFO:tensorflow:loss = 0.4462713, step = 4200 (0.304 sec)\n",
      "INFO:tensorflow:global_step/sec: 372.35\n",
      "INFO:tensorflow:loss = 0.44127375, step = 4300 (0.269 sec)\n",
      "INFO:tensorflow:global_step/sec: 358.156\n",
      "INFO:tensorflow:loss = 0.44218802, step = 4400 (0.279 sec)\n",
      "INFO:tensorflow:global_step/sec: 346.204\n",
      "INFO:tensorflow:loss = 0.44064826, step = 4500 (0.289 sec)\n",
      "INFO:tensorflow:global_step/sec: 401.529\n",
      "INFO:tensorflow:loss = 0.4305566, step = 4600 (0.249 sec)\n",
      "INFO:tensorflow:global_step/sec: 337.737\n",
      "INFO:tensorflow:loss = 0.41857418, step = 4700 (0.296 sec)\n",
      "INFO:tensorflow:global_step/sec: 373.166\n",
      "INFO:tensorflow:loss = 0.4260914, step = 4800 (0.268 sec)\n",
      "INFO:tensorflow:global_step/sec: 366.693\n",
      "INFO:tensorflow:loss = 0.42251116, step = 4900 (0.273 sec)\n",
      "INFO:tensorflow:Calling checkpoint listeners before saving checkpoint 5000...\n",
      "INFO:tensorflow:Saving checkpoints for 5000 into /tmp/tmp4yjckzj5/model.ckpt.\n",
      "INFO:tensorflow:Calling checkpoint listeners after saving checkpoint 5000...\n",
      "INFO:tensorflow:Loss for final step: 0.41492343.\n"
     ]
    },
    {
     "data": {
      "text/plain": "<tensorflow_estimator.python.estimator.canned.dnn.DNNClassifierV2 at 0x7f649423c970>"
     },
     "execution_count": 67,
     "metadata": {},
     "output_type": "execute_result"
    },
    {
     "name": "stdout",
     "output_type": "stream",
     "text": [
      "INFO:tensorflow:Calling model_fn.\n",
      "INFO:tensorflow:Done calling model_fn.\n",
      "INFO:tensorflow:Create CheckpointSaverHook.\n",
      "INFO:tensorflow:Graph was finalized.\n",
      "INFO:tensorflow:Running local_init_op.\n",
      "INFO:tensorflow:Done running local_init_op.\n"
     ]
    },
    {
     "name": "stderr",
     "output_type": "stream",
     "text": [
      "2022-04-13 11:24:01.858925: I tensorflow/stream_executor/cuda/cuda_gpu_executor.cc:936] successful NUMA node read from SysFS had negative value (-1), but there must be at least one NUMA node, so returning NUMA node zero\n",
      "2022-04-13 11:24:01.859532: W tensorflow/core/common_runtime/gpu/gpu_device.cc:1850] Cannot dlopen some GPU libraries. Please make sure the missing libraries mentioned above are installed properly if you would like to use GPU. Follow the guide at https://www.tensorflow.org/install/gpu for how to download and setup the required libraries for your platform.\n",
      "Skipping registering GPU devices...\n"
     ]
    },
    {
     "name": "stdout",
     "output_type": "stream",
     "text": [
      "INFO:tensorflow:Calling checkpoint listeners before saving checkpoint 0...\n",
      "INFO:tensorflow:Saving checkpoints for 0 into /tmp/tmpaiuubpl7/model.ckpt.\n",
      "INFO:tensorflow:Calling checkpoint listeners after saving checkpoint 0...\n",
      "INFO:tensorflow:loss = 1.353236, step = 0\n",
      "INFO:tensorflow:global_step/sec: 345.562\n",
      "INFO:tensorflow:loss = 1.0737755, step = 100 (0.290 sec)\n",
      "INFO:tensorflow:global_step/sec: 441.542\n",
      "INFO:tensorflow:loss = 0.9767587, step = 200 (0.226 sec)\n",
      "INFO:tensorflow:global_step/sec: 369.572\n",
      "INFO:tensorflow:loss = 0.9368386, step = 300 (0.271 sec)\n",
      "INFO:tensorflow:global_step/sec: 335.227\n",
      "INFO:tensorflow:loss = 0.9073857, step = 400 (0.298 sec)\n",
      "INFO:tensorflow:global_step/sec: 302.44\n",
      "INFO:tensorflow:loss = 0.8634319, step = 500 (0.331 sec)\n",
      "INFO:tensorflow:global_step/sec: 403.195\n",
      "INFO:tensorflow:loss = 0.83683187, step = 600 (0.247 sec)\n",
      "INFO:tensorflow:global_step/sec: 390.036\n",
      "INFO:tensorflow:loss = 0.8144965, step = 700 (0.258 sec)\n",
      "INFO:tensorflow:global_step/sec: 330.473\n",
      "INFO:tensorflow:loss = 0.7806579, step = 800 (0.302 sec)\n",
      "INFO:tensorflow:global_step/sec: 378.941\n",
      "INFO:tensorflow:loss = 0.76669604, step = 900 (0.263 sec)\n",
      "INFO:tensorflow:global_step/sec: 412.315\n",
      "INFO:tensorflow:loss = 0.75457346, step = 1000 (0.243 sec)\n",
      "INFO:tensorflow:global_step/sec: 460.329\n",
      "INFO:tensorflow:loss = 0.73750377, step = 1100 (0.217 sec)\n",
      "INFO:tensorflow:global_step/sec: 461.505\n",
      "INFO:tensorflow:loss = 0.7176341, step = 1200 (0.217 sec)\n",
      "INFO:tensorflow:global_step/sec: 428.835\n",
      "INFO:tensorflow:loss = 0.7061531, step = 1300 (0.233 sec)\n",
      "INFO:tensorflow:global_step/sec: 473.688\n",
      "INFO:tensorflow:loss = 0.6810858, step = 1400 (0.211 sec)\n",
      "INFO:tensorflow:global_step/sec: 482.933\n",
      "INFO:tensorflow:loss = 0.6727167, step = 1500 (0.207 sec)\n",
      "INFO:tensorflow:global_step/sec: 425.619\n",
      "INFO:tensorflow:loss = 0.6620834, step = 1600 (0.235 sec)\n",
      "INFO:tensorflow:global_step/sec: 356.27\n",
      "INFO:tensorflow:loss = 0.6515194, step = 1700 (0.281 sec)\n",
      "INFO:tensorflow:global_step/sec: 387.746\n",
      "INFO:tensorflow:loss = 0.6314527, step = 1800 (0.258 sec)\n",
      "INFO:tensorflow:global_step/sec: 460.935\n",
      "INFO:tensorflow:loss = 0.6321298, step = 1900 (0.217 sec)\n",
      "INFO:tensorflow:global_step/sec: 345.151\n",
      "INFO:tensorflow:loss = 0.62539387, step = 2000 (0.290 sec)\n",
      "INFO:tensorflow:global_step/sec: 384.243\n",
      "INFO:tensorflow:loss = 0.6042938, step = 2100 (0.260 sec)\n",
      "INFO:tensorflow:global_step/sec: 366.193\n",
      "INFO:tensorflow:loss = 0.6029011, step = 2200 (0.272 sec)\n",
      "INFO:tensorflow:global_step/sec: 319.746\n",
      "INFO:tensorflow:loss = 0.6068965, step = 2300 (0.314 sec)\n",
      "INFO:tensorflow:global_step/sec: 440.077\n",
      "INFO:tensorflow:loss = 0.58251965, step = 2400 (0.227 sec)\n",
      "INFO:tensorflow:global_step/sec: 391.465\n",
      "INFO:tensorflow:loss = 0.57014096, step = 2500 (0.256 sec)\n",
      "INFO:tensorflow:global_step/sec: 367.918\n",
      "INFO:tensorflow:loss = 0.5655792, step = 2600 (0.272 sec)\n",
      "INFO:tensorflow:global_step/sec: 347.626\n",
      "INFO:tensorflow:loss = 0.5594364, step = 2700 (0.288 sec)\n",
      "INFO:tensorflow:global_step/sec: 367.27\n",
      "INFO:tensorflow:loss = 0.5517892, step = 2800 (0.273 sec)\n",
      "INFO:tensorflow:global_step/sec: 387.535\n",
      "INFO:tensorflow:loss = 0.5384155, step = 2900 (0.258 sec)\n",
      "INFO:tensorflow:global_step/sec: 361.346\n",
      "INFO:tensorflow:loss = 0.5314573, step = 3000 (0.276 sec)\n",
      "INFO:tensorflow:global_step/sec: 457.917\n",
      "INFO:tensorflow:loss = 0.523734, step = 3100 (0.218 sec)\n",
      "INFO:tensorflow:global_step/sec: 431.025\n",
      "INFO:tensorflow:loss = 0.5247323, step = 3200 (0.233 sec)\n",
      "INFO:tensorflow:global_step/sec: 428.49\n",
      "INFO:tensorflow:loss = 0.5099324, step = 3300 (0.233 sec)\n",
      "INFO:tensorflow:global_step/sec: 440.034\n",
      "INFO:tensorflow:loss = 0.5008006, step = 3400 (0.227 sec)\n",
      "INFO:tensorflow:global_step/sec: 452.691\n",
      "INFO:tensorflow:loss = 0.48378086, step = 3500 (0.221 sec)\n",
      "INFO:tensorflow:global_step/sec: 350.477\n",
      "INFO:tensorflow:loss = 0.4915408, step = 3600 (0.285 sec)\n",
      "INFO:tensorflow:global_step/sec: 409.495\n",
      "INFO:tensorflow:loss = 0.47575983, step = 3700 (0.244 sec)\n",
      "INFO:tensorflow:global_step/sec: 465.427\n",
      "INFO:tensorflow:loss = 0.47027034, step = 3800 (0.215 sec)\n",
      "INFO:tensorflow:global_step/sec: 333.865\n",
      "INFO:tensorflow:loss = 0.47578645, step = 3900 (0.301 sec)\n",
      "INFO:tensorflow:global_step/sec: 378.954\n",
      "INFO:tensorflow:loss = 0.47704965, step = 4000 (0.263 sec)\n",
      "INFO:tensorflow:global_step/sec: 295.018\n",
      "INFO:tensorflow:loss = 0.46539792, step = 4100 (0.338 sec)\n",
      "INFO:tensorflow:global_step/sec: 443.414\n",
      "INFO:tensorflow:loss = 0.45547858, step = 4200 (0.226 sec)\n",
      "INFO:tensorflow:global_step/sec: 362.602\n",
      "INFO:tensorflow:loss = 0.44898918, step = 4300 (0.276 sec)\n",
      "INFO:tensorflow:global_step/sec: 353.256\n",
      "INFO:tensorflow:loss = 0.44099253, step = 4400 (0.283 sec)\n",
      "INFO:tensorflow:global_step/sec: 350.475\n",
      "INFO:tensorflow:loss = 0.44896048, step = 4500 (0.285 sec)\n",
      "INFO:tensorflow:global_step/sec: 358.317\n",
      "INFO:tensorflow:loss = 0.43803525, step = 4600 (0.281 sec)\n",
      "INFO:tensorflow:global_step/sec: 346.2\n",
      "INFO:tensorflow:loss = 0.43225783, step = 4700 (0.287 sec)\n",
      "INFO:tensorflow:global_step/sec: 338.532\n",
      "INFO:tensorflow:loss = 0.4334347, step = 4800 (0.295 sec)\n",
      "INFO:tensorflow:global_step/sec: 371.213\n",
      "INFO:tensorflow:loss = 0.421109, step = 4900 (0.269 sec)\n",
      "INFO:tensorflow:Calling checkpoint listeners before saving checkpoint 5000...\n",
      "INFO:tensorflow:Saving checkpoints for 5000 into /tmp/tmpaiuubpl7/model.ckpt.\n",
      "INFO:tensorflow:Calling checkpoint listeners after saving checkpoint 5000...\n",
      "INFO:tensorflow:Loss for final step: 0.409726.\n"
     ]
    },
    {
     "data": {
      "text/plain": "<tensorflow_estimator.python.estimator.canned.dnn.DNNClassifierV2 at 0x7f646dfc76a0>"
     },
     "execution_count": 98,
     "metadata": {},
     "output_type": "execute_result"
    }
   ],
   "source": [
    "# Training\n",
    "classifier.train(input_fn=lambda: input_fn(train, train_y),\n",
    "                  steps=5000)"
   ],
   "metadata": {
    "collapsed": false,
    "pycharm": {
     "name": "#%%\n"
    }
   }
  },
  {
   "cell_type": "code",
   "execution_count": 99,
   "outputs": [
    {
     "name": "stdout",
     "output_type": "stream",
     "text": [
      "INFO:tensorflow:Calling model_fn.\n",
      "INFO:tensorflow:Done calling model_fn.\n",
      "INFO:tensorflow:Starting evaluation at 2022-04-13T11:23:37\n",
      "INFO:tensorflow:Graph was finalized.\n",
      "INFO:tensorflow:Restoring parameters from /tmp/tmp4yjckzj5/model.ckpt-5000\n",
      "INFO:tensorflow:Running local_init_op.\n",
      "INFO:tensorflow:Done running local_init_op.\n"
     ]
    },
    {
     "name": "stderr",
     "output_type": "stream",
     "text": [
      "2022-04-13 11:23:37.367299: I tensorflow/stream_executor/cuda/cuda_gpu_executor.cc:936] successful NUMA node read from SysFS had negative value (-1), but there must be at least one NUMA node, so returning NUMA node zero\n",
      "2022-04-13 11:23:37.368575: W tensorflow/core/common_runtime/gpu/gpu_device.cc:1850] Cannot dlopen some GPU libraries. Please make sure the missing libraries mentioned above are installed properly if you would like to use GPU. Follow the guide at https://www.tensorflow.org/install/gpu for how to download and setup the required libraries for your platform.\n",
      "Skipping registering GPU devices...\n"
     ]
    },
    {
     "name": "stdout",
     "output_type": "stream",
     "text": [
      "INFO:tensorflow:Inference Time : 0.38114s\n",
      "INFO:tensorflow:Finished evaluation at 2022-04-13-11:23:37\n",
      "INFO:tensorflow:Saving dict for global step 5000: accuracy = 0.90833336, average_loss = 0.42104012, global_step = 5000, loss = 0.42104012\n",
      "INFO:tensorflow:Saving 'checkpoint_path' summary for global step 5000: /tmp/tmp4yjckzj5/model.ckpt-5000\n",
      "\n",
      "Test set accuracy: 0.908\n",
      "\n",
      "INFO:tensorflow:Calling model_fn.\n",
      "INFO:tensorflow:Done calling model_fn.\n",
      "INFO:tensorflow:Starting evaluation at 2022-04-13T11:24:16\n",
      "INFO:tensorflow:Graph was finalized.\n",
      "INFO:tensorflow:Restoring parameters from /tmp/tmpaiuubpl7/model.ckpt-5000\n",
      "INFO:tensorflow:Running local_init_op.\n",
      "INFO:tensorflow:Done running local_init_op.\n",
      "INFO:tensorflow:Inference Time : 0.27054s\n",
      "INFO:tensorflow:Finished evaluation at 2022-04-13-11:24:16\n",
      "INFO:tensorflow:Saving dict for global step 5000: accuracy = 0.94166666, average_loss = 0.4225383, global_step = 5000, loss = 0.4225383\n"
     ]
    },
    {
     "name": "stderr",
     "output_type": "stream",
     "text": [
      "2022-04-13 11:24:16.289775: I tensorflow/stream_executor/cuda/cuda_gpu_executor.cc:936] successful NUMA node read from SysFS had negative value (-1), but there must be at least one NUMA node, so returning NUMA node zero\n",
      "2022-04-13 11:24:16.290520: W tensorflow/core/common_runtime/gpu/gpu_device.cc:1850] Cannot dlopen some GPU libraries. Please make sure the missing libraries mentioned above are installed properly if you would like to use GPU. Follow the guide at https://www.tensorflow.org/install/gpu for how to download and setup the required libraries for your platform.\n",
      "Skipping registering GPU devices...\n"
     ]
    },
    {
     "name": "stdout",
     "output_type": "stream",
     "text": [
      "INFO:tensorflow:Saving 'checkpoint_path' summary for global step 5000: /tmp/tmpaiuubpl7/model.ckpt-5000\n",
      "\n",
      "Test set accuracy: 0.942\n",
      "\n"
     ]
    }
   ],
   "source": [
    "eval_result = classifier.evaluate(input_fn=lambda: input_fn(train, train_y, training=False))\n",
    "\n",
    "print(\"\\nTest set accuracy: {accuracy:0.3f}\\n\".format(**eval_result))"
   ],
   "metadata": {
    "collapsed": false,
    "pycharm": {
     "name": "#%%\n"
    }
   }
  },
  {
   "cell_type": "code",
   "execution_count": 100,
   "outputs": [
    {
     "name": "stdout",
     "output_type": "stream",
     "text": [
      "Please type numeric values as prompted.\n",
      "INFO:tensorflow:Calling model_fn.\n",
      "INFO:tensorflow:Done calling model_fn.\n",
      "INFO:tensorflow:Graph was finalized.\n",
      "INFO:tensorflow:Restoring parameters from /tmp/tmp4yjckzj5/model.ckpt-5000\n",
      "INFO:tensorflow:Running local_init_op.\n",
      "INFO:tensorflow:Done running local_init_op.\n",
      "Prediction is \"Virginica\" (70.4%)\n"
     ]
    },
    {
     "name": "stderr",
     "output_type": "stream",
     "text": [
      "2022-04-13 11:23:50.474359: I tensorflow/stream_executor/cuda/cuda_gpu_executor.cc:936] successful NUMA node read from SysFS had negative value (-1), but there must be at least one NUMA node, so returning NUMA node zero\n",
      "2022-04-13 11:23:50.475211: W tensorflow/core/common_runtime/gpu/gpu_device.cc:1850] Cannot dlopen some GPU libraries. Please make sure the missing libraries mentioned above are installed properly if you would like to use GPU. Follow the guide at https://www.tensorflow.org/install/gpu for how to download and setup the required libraries for your platform.\n",
      "Skipping registering GPU devices...\n"
     ]
    },
    {
     "name": "stdout",
     "output_type": "stream",
     "text": [
      "Please type numeric values as prompted.\n",
      "INFO:tensorflow:Calling model_fn.\n",
      "INFO:tensorflow:Done calling model_fn.\n",
      "INFO:tensorflow:Graph was finalized.\n",
      "INFO:tensorflow:Restoring parameters from /tmp/tmpaiuubpl7/model.ckpt-5000\n",
      "INFO:tensorflow:Running local_init_op.\n",
      "INFO:tensorflow:Done running local_init_op.\n",
      "Prediction is \"Virginica\" (62.2%)\n"
     ]
    },
    {
     "name": "stderr",
     "output_type": "stream",
     "text": [
      "2022-04-13 11:24:28.032556: I tensorflow/stream_executor/cuda/cuda_gpu_executor.cc:936] successful NUMA node read from SysFS had negative value (-1), but there must be at least one NUMA node, so returning NUMA node zero\n",
      "2022-04-13 11:24:28.033396: W tensorflow/core/common_runtime/gpu/gpu_device.cc:1850] Cannot dlopen some GPU libraries. Please make sure the missing libraries mentioned above are installed properly if you would like to use GPU. Follow the guide at https://www.tensorflow.org/install/gpu for how to download and setup the required libraries for your platform.\n",
      "Skipping registering GPU devices...\n"
     ]
    }
   ],
   "source": [
    "# Predictions\n",
    "def input_fn(features, batch_size=256):\n",
    "    return tf.data.Dataset.from_tensor_slices(dict(features)).batch(batch_size)\n",
    "\n",
    "features = ['SepalLength', 'SepalWidth', 'PetalLength', 'PetalWidth']\n",
    "predict = {}\n",
    "\n",
    "print(\"Please type numeric values as prompted.\")\n",
    "for feature in features:\n",
    "    valid = True\n",
    "    while valid:\n",
    "        val = input(feature + \": \")\n",
    "        if not val.isdigit(): valid = False\n",
    "    predict[feature] = [float(val)]\n",
    "\n",
    "predictions = classifier.predict(input_fn=lambda: input_fn(predict))\n",
    "for pred_dict in predictions:\n",
    "    class_id = pred_dict['class_ids'][0]\n",
    "    probability = pred_dict['probabilities'][class_id]\n",
    "\n",
    "    print('Prediction is \"{}\" ({:.1f}%)'.format(SPECIES[class_id], 100 * probability))"
   ],
   "metadata": {
    "collapsed": false,
    "pycharm": {
     "name": "#%%\n"
    }
   }
  },
  {
   "cell_type": "code",
   "execution_count": 101,
   "outputs": [],
   "source": [
    "# Hidden Markov Models\n",
    "import tensorflow as tf\n",
    "import tensorflow_probability as tfp"
   ],
   "metadata": {
    "collapsed": false,
    "pycharm": {
     "name": "#%%\n"
    }
   }
  },
  {
   "cell_type": "code",
   "execution_count": 102,
   "outputs": [],
   "source": [
    "initial_distribution = tfp.distributions.Categorical(probs=[0.8, 0.2])\n",
    "transition_distribution = tfp.distributions.Categorical(probs=[[0.7, 0.3],[0.2, 0.8]])\n",
    "observation_distribution = tfp.distributions.Normal(loc=[0., 15.], scale=[5., 10.])"
   ],
   "metadata": {
    "collapsed": false,
    "pycharm": {
     "name": "#%%\n"
    }
   }
  },
  {
   "cell_type": "code",
   "execution_count": 103,
   "outputs": [],
   "source": [
    "model = tfp.distributions.HiddenMarkovModel(initial_distribution=initial_distribution,\n",
    "                                            transition_distribution=transition_distribution,\n",
    "                                            observation_distribution=observation_distribution,\n",
    "                                            num_steps=7)"
   ],
   "metadata": {
    "collapsed": false,
    "pycharm": {
     "name": "#%%\n"
    }
   }
  },
  {
   "cell_type": "code",
   "execution_count": 104,
   "outputs": [
    {
     "name": "stdout",
     "output_type": "stream",
     "text": [
      "[2.9999998 5.9999995 7.4999995 8.25      8.625001  8.812501  8.90625  ]\n",
      "[2.9999998 5.9999995 7.4999995 8.25      8.625001  8.812501  8.90625  ]\n"
     ]
    }
   ],
   "source": [
    "mean = model.mean()\n",
    "\n",
    "with tf.compat.v1.Session() as sess:\n",
    "    print(mean.numpy())"
   ],
   "metadata": {
    "collapsed": false,
    "pycharm": {
     "name": "#%%\n"
    }
   }
  }
 ],
 "metadata": {
  "kernelspec": {
   "display_name": "Python 3",
   "language": "python",
   "name": "python3"
  },
  "language_info": {
   "codemirror_mode": {
    "name": "ipython",
    "version": 2
   },
   "file_extension": ".py",
   "mimetype": "text/x-python",
   "name": "python",
   "nbconvert_exporter": "python",
   "pygments_lexer": "ipython2",
   "version": "2.7.6"
  }
 },
 "nbformat": 4,
 "nbformat_minor": 0
}