{
 "nbformat": 4,
 "nbformat_minor": 0,
 "metadata": {
  "colab": {
   "name": "Natural Language Processing with RNNs .ipynb",
   "provenance": [],
   "collapsed_sections": []
  },
  "kernelspec": {
   "name": "python3",
   "display_name": "Python 3"
  },
  "accelerator": "GPU"
 },
 "cells": [
  {
   "cell_type": "markdown",
   "metadata": {
    "id": "h5cjtsHP8t5Y"
   },
   "source": [
    "# Natural Language Processing\n",
    "Natural Language Processing (or NLP for short) is a discipline in computing that deals with the communication between natural (human) languages and computer languages. A common example of NLP is something like spellcheck or autocomplete. Essentially NLP is the field that focuses on how computers can understand and/or process natural/human languages. \n",
    "\n",
    "### Recurrent Neural Networks\n",
    "\n",
    "In this tutorial we will introduce a new kind of neural network that is much more capable of processing sequential data such as text or characters called a **recurrent neural network** (RNN for short). \n",
    "\n",
    "We will learn how to use a recurrent neural network to do the following:\n",
    "- Sentiment Analysis\n",
    "- Character Generation \n",
    "\n",
    "RNN's are complex and come in many different forms so in this tutorial we wil focus on how they work and the kind of problems they are best suited for.\n",
    "\n"
   ]
  },
  {
   "cell_type": "markdown",
   "metadata": {
    "id": "ur_FQq-Q-fxC"
   },
   "source": [
    "## Sequence Data\n",
    "In the previous tutorials we focused on data that we could represent as one static data point where the notion of time or step was irrelevant. Take for example our image data, it was simply a tensor of shape (width, height, channels). That data doesn't change or care about the notion of time. \n",
    "\n",
    "In this tutorial we will look at sequences of text and learn how we can encode them in a meaningful way. Unlike images, sequence data such as long chains of text, weather patterns, videos and really anything where the notion of a step or time is relevant needs to be processed and handled in a special way. \n",
    "\n",
    "But what do I mean by sequences and why is text data a sequence? Well that's a good question. Since textual data contains many words that follow in a very specific and meaningful order, we need to be able to keep track of each word and when it occurs in the data. Simply encoding say an entire paragraph of text into one data point wouldn't give us a very meaningful picture of the data and would be very difficult to do anything with. This is why we treat text as a sequence and process one word at a time. We will keep track of where each of these words appear and use that information to try to understand the meaning of pieces of text.\n",
    "\n"
   ]
  },
  {
   "cell_type": "markdown",
   "metadata": {
    "id": "8gQHK4V4e2wl"
   },
   "source": [
    "## Encoding Text\n",
    "As we know machine learning models and neural networks don't take raw text data as an input. This means we must somehow encode our textual data to numeric values that our models can understand. There are many different ways of doing this, and we will look at a few examples below.\n",
    "\n",
    "Before we get into the different encoding/preprocessing methods let's understand the information we can get from textual data by looking at the following two movie reviews.\n",
    "\n",
    "```I thought the movie was going to be bad, but it was actually amazing!```\n",
    "\n",
    "```I thought the movie was going to be amazing, but it was actually bad!```\n",
    "\n",
    "Although these two sentences are very similar we know that they have very different meanings. This is because of the **ordering** of words, a very important property of textual data.\n",
    "\n",
    "Now keep that in mind while we consider some different ways of encoding our textual data.\n",
    "\n",
    "### Bag of Words\n",
    "The first and simplest way to encode our data is to use something called **bag of words**. This is a pretty easy technique where each word in a sentence is encoded with an integer and thrown into a collection that does not maintain the order of the words but does keep track of the frequency. Have a look at the python function below that encodes a string of text into bag of words. "
   ]
  },
  {
   "cell_type": "code",
   "metadata": {
    "id": "5KiCCBsIkMHi"
   },
   "source": [
    "vocab = {}  # maps word to integer representing it\n",
    "word_encoding = 1\n",
    "def bag_of_words(text):\n",
    "  global word_encoding\n",
    "\n",
    "  words = text.lower().split(\" \")  # create a list of all of the words in the text, well assume there is no grammar in our text for this example\n",
    "  bag = {}  # stores all of the encodings and their frequency\n",
    "\n",
    "  for word in words:\n",
    "    if word in vocab:\n",
    "      encoding = vocab[word]  # get encoding from vocab\n",
    "    else:\n",
    "      vocab[word] = word_encoding\n",
    "      encoding = word_encoding\n",
    "      word_encoding += 1\n",
    "    \n",
    "    if encoding in bag:\n",
    "      bag[encoding] += 1\n",
    "    else:\n",
    "      bag[encoding] = 1\n",
    "  \n",
    "  return bag\n",
    "\n",
    "text = \"this is a test to see if this test will work is is test a a\"\n",
    "bag = bag_of_words(text)\n",
    "print(bag)\n",
    "print(vocab)"
   ],
   "execution_count": 12,
   "outputs": [
    {
     "name": "stdout",
     "output_type": "stream",
     "text": [
      "{1: 2, 2: 3, 3: 3, 4: 3, 5: 1, 6: 1, 7: 1, 8: 1, 9: 1}\n",
      "{'this': 1, 'is': 2, 'a': 3, 'test': 4, 'to': 5, 'see': 6, 'if': 7, 'will': 8, 'work': 9}\n"
     ]
    }
   ]
  },
  {
   "cell_type": "markdown",
   "metadata": {
    "id": "4hEvstSBl1gy"
   },
   "source": [
    "This isn't really the way we would do this in practice, but I hope it gives you an idea of how bag of words works. Notice that we've lost the order in which words appear. In fact, let's look at how this encoding works for the two sentences we showed above.\n",
    "\n"
   ]
  },
  {
   "cell_type": "code",
   "metadata": {
    "id": "miYshfvzmJ0H"
   },
   "source": [
    "positive_review = \"I thought the movie was going to be bad but it was actually amazing\"\n",
    "negative_review = \"I thought the movie was going to be amazing but it was actually bad\"\n",
    "\n",
    "pos_bag = bag_of_words(positive_review)\n",
    "neg_bag = bag_of_words(negative_review)\n",
    "\n",
    "print(\"Positive:\", pos_bag)\n",
    "print(\"Negative:\", neg_bag)"
   ],
   "execution_count": 13,
   "outputs": [
    {
     "name": "stdout",
     "output_type": "stream",
     "text": [
      "Positive: {10: 1, 11: 1, 12: 1, 13: 1, 14: 2, 15: 1, 5: 1, 16: 1, 17: 1, 18: 1, 19: 1, 20: 1, 21: 1}\n",
      "Negative: {10: 1, 11: 1, 12: 1, 13: 1, 14: 2, 15: 1, 5: 1, 16: 1, 21: 1, 18: 1, 19: 1, 20: 1, 17: 1}\n"
     ]
    }
   ]
  },
  {
   "cell_type": "markdown",
   "metadata": {
    "id": "Pl7Fw9s3mkfK"
   },
   "source": [
    "We can see that even though these sentences have a very different meaning they are encoded exact the same way. Obviously, this isn't going to fly. Let's look at some other methods.\n",
    "\n"
   ]
  },
  {
   "cell_type": "markdown",
   "metadata": {
    "id": "DUKTycffmu1k"
   },
   "source": [
    "### Integer Encoding\n",
    "The next technique we will look at is called **integer encoding**. This involves representing each word or character in a sentence as a unique integer and maintaining the order of these words. This should hopefully fix the problem we saw before were we lost the order of words.\n"
   ]
  },
  {
   "cell_type": "code",
   "metadata": {
    "id": "MKY4y_tjnUEW"
   },
   "source": [
    "vocab = {}  \n",
    "word_encoding = 1\n",
    "def one_hot_encoding(text):\n",
    "  global word_encoding\n",
    "\n",
    "  words = text.lower().split(\" \") \n",
    "  encoding = []  \n",
    "\n",
    "  for word in words:\n",
    "    if word in vocab:\n",
    "      code = vocab[word]  \n",
    "      encoding.append(code) \n",
    "    else:\n",
    "      vocab[word] = word_encoding\n",
    "      encoding.append(word_encoding)\n",
    "      word_encoding += 1\n",
    "  \n",
    "  return encoding\n",
    "\n",
    "text = \"this is a test to see if this test will work is is test a a\"\n",
    "encoding = one_hot_encoding(text)\n",
    "print(encoding)\n",
    "print(vocab)"
   ],
   "execution_count": 14,
   "outputs": [
    {
     "name": "stdout",
     "output_type": "stream",
     "text": [
      "[1, 2, 3, 4, 5, 6, 7, 1, 4, 8, 9, 2, 2, 4, 3, 3]\n",
      "{'this': 1, 'is': 2, 'a': 3, 'test': 4, 'to': 5, 'see': 6, 'if': 7, 'will': 8, 'work': 9}\n"
     ]
    }
   ]
  },
  {
   "cell_type": "markdown",
   "metadata": {
    "id": "TOrLG9Bin0Zv"
   },
   "source": [
    "And now let's have a look at one hot encoding on our movie reviews."
   ]
  },
  {
   "cell_type": "code",
   "metadata": {
    "id": "1S-GNjotn-Br"
   },
   "source": [
    "positive_review = \"I thought the movie was going to be bad but it was actually amazing\"\n",
    "negative_review = \"I thought the movie was going to be amazing but it was actually bad\"\n",
    "\n",
    "pos_encode = one_hot_encoding(positive_review)\n",
    "neg_encode = one_hot_encoding(negative_review)\n",
    "\n",
    "print(\"Positive:\", pos_encode)\n",
    "print(\"Negative:\", neg_encode)"
   ],
   "execution_count": 15,
   "outputs": [
    {
     "name": "stdout",
     "output_type": "stream",
     "text": [
      "Positive: [10, 11, 12, 13, 14, 15, 5, 16, 17, 18, 19, 14, 20, 21]\n",
      "Negative: [10, 11, 12, 13, 14, 15, 5, 16, 21, 18, 19, 14, 20, 17]\n"
     ]
    }
   ]
  },
  {
   "cell_type": "markdown",
   "metadata": {
    "id": "jC9UYV4vpq6Y"
   },
   "source": [
    "Much better, now we are keeping track of the order of words, and we can tell where each occurs. But this still has a few issues with it. Ideally when we encode words, we would like similar words to have similar labels and different words to have very different labels. For example, the words happy and joyful should probably have very similar labels, so we can determine that they are similar. While words like horrible and amazing should probably have very different labels. The method we looked at above won't be able to do something like this for us. This could mean that the model will have a very difficult time determining if two words are similar or not which could result in some pretty drastic performance impacts."
   ]
  },
  {
   "cell_type": "markdown",
   "metadata": {
    "id": "JRZ73YCqqiw9"
   },
   "source": [
    "### Word Embeddings\n",
    "Luckily there is a third method that is far superior, **word embeddings**. This method keeps the order of words intact as well as encodes similar words with very similar labels. It attempts to not only encode the frequency and order of words but the meaning of those words in the sentence. It encodes each word as a dense vector that represents its context in the sentence.\n",
    "\n",
    "Unlike the previous techniques' word embeddings are learned by looking at many different training examples. You can add what's called an *embedding layer* to the beginning of your model and while your model trains your embedding layer will learn the correct embeddings for words. You can also use pretrained embedding layers.\n",
    "\n",
    "This is the technique we will use for our examples and its implementation will be showed later on.\n",
    "\n"
   ]
  },
  {
   "cell_type": "markdown",
   "metadata": {
    "id": "ehig3qliuUzk"
   },
   "source": [
    "## Recurrent Neural Networks (RNN's)\n",
    "Now that we've learned a little bit about how we can encode text it's time to dive into recurrent neural networks. Up until this point we have been using something called **feed-forward** neural networks. This simply means that all our data is fed forwards (all at once) from left to right through the network. This was fine for the problems we considered before but won't work very well for processing text. After all, even we (humans) don't process text all at once. We read word by word from left to right and keep track of the current meaning of the sentence, so we can understand the meaning of the next word. Well this is exactly what a recurrent neural network is designed to do. When we say recurrent neural network all we really mean is a network that contains a loop. A RNN will process one word at a time while maintaining an internal memory of what it's already seen. This will allow it to treat words differently based on their order in a sentence and to slowly build an understanding of the entire input, one word at a time.\n",
    "\n",
    "This is why we are treating our text data as a sequence! So that we can pass one word at a time to the RNN.\n",
    "\n",
    "Let's have a look at what a recurrent layer might look like.\n",
    "\n",
    "![alt text](https://colah.github.io/posts/2015-08-Understanding-LSTMs/img/RNN-unrolled.png)\n",
    "*Source: https://colah.github.io/posts/2015-08-Understanding-LSTMs/*\n",
    "\n",
    "Let's define what all these variables stand for before we get into the explanation.\n",
    "\n",
    "**h<sub>t</sub>** output at time t\n",
    "\n",
    "**x<sub>t</sub>** input at time t\n",
    "\n",
    "**A** Recurrent Layer (loop)\n",
    "\n",
    "What this diagram is trying to illustrate is that a recurrent layer processes words or input one at a time in a combination with the output from the previous iteration. So, as we progress further in the input sequence, we build a more complex understanding of the text as a whole.\n",
    "\n",
    "What we've just looked at is called a **simple RNN layer**. It can be effective at processing shorter sequences of text for simple problems but has many downfalls associated with it. One of them being the fact that as text sequences get longer it gets increasingly difficult for the network to understand the text properly.\n",
    "\n"
   ]
  },
  {
   "cell_type": "markdown",
   "metadata": {
    "id": "Fo3WY-e86zX2"
   },
   "source": [
    "## LSTM\n",
    "The layer we discussed in depth above was called a *simpleRNN*. However, there does exist some other recurrent layers (layers that contain a loop) that work much better than a simple RNN layer. The one we will talk about here is called LSTM (Long Short-Term Memory). This layer works very similarly to the simpleRNN layer but adds a way to access inputs from any timestamp in the past. Whereas in our simple RNN layer input from previous timestamps gradually disappeared as we got further through the input. With a LSTM we have a long-term memory data structure storing all the previously seen inputs as well as when we saw them. This allows for us to access any previous value we want at any point in time. This adds to the complexity of our network and allows it to discover more useful relationships between inputs and when they appear.\n",
    "\n",
    "For the purpose of this course we will refrain from going any further into the math or details behind how these layers work.\n",
    "\n"
   ]
  },
  {
   "cell_type": "markdown",
   "metadata": {
    "id": "CRGOx6_v4eZ_"
   },
   "source": [
    "## Sentiment Analysis\n",
    "And now time to see a recurrent neural network in action. For this example, we are going to do something called sentiment analysis.\n",
    "\n",
    "The formal definition of this term from Wikipedia is as follows:\n",
    "\n",
    "*the process of computationally identifying and categorizing opinions expressed in a piece of text, especially in order to determine whether the writer's attitude towards a particular topic, product, etc. is positive, negative, or neutral.*\n",
    "\n",
    "The example we’ll use here is classifying movie reviews as either positive, negative or neutral.\n",
    "\n",
    "*This guide is based on the following tensorflow tutorial: https://www.tensorflow.org/tutorials/text/text_classification_rnn*\n",
    "\n"
   ]
  },
  {
   "cell_type": "markdown",
   "metadata": {
    "id": "RACGE5Ypt5u9"
   },
   "source": [
    "### Movie Review Dataset\n",
    "Well start by loading in the IMDB movie review dataset from keras. This dataset contains 25,000 reviews from IMDB where each one is already preprocessed and has a label as either positive or negative. Each review is encoded by integers that represents how common a word is in the entire dataset. For example, a word encoded by the integer 3 means that it is the 3rd most common word in the dataset.\n",
    " \n",
    "\n",
    "\n"
   ]
  },
  {
   "cell_type": "code",
   "metadata": {
    "id": "pdsus1kyXWC8"
   },
   "source": [
    "from keras.datasets import imdb\n",
    "from keras.preprocessing import sequence\n",
    "import keras\n",
    "import tensorflow as tf\n",
    "import os\n",
    "import numpy as np\n",
    "\n",
    "VOCAB_SIZE = 88584\n",
    "\n",
    "MAXLEN = 250\n",
    "BATCH_SIZE = 64\n",
    "\n",
    "(train_data, train_labels), (test_data, test_labels) = imdb.load_data(num_words = VOCAB_SIZE)"
   ],
   "execution_count": 16,
   "outputs": []
  },
  {
   "cell_type": "code",
   "metadata": {
    "id": "Wh6lOpcQ9sIZ"
   },
   "source": [
    "# Lets look at one review\n",
    "train_data[1]"
   ],
   "execution_count": 17,
   "outputs": [
    {
     "data": {
      "text/plain": "[1,\n 194,\n 1153,\n 194,\n 8255,\n 78,\n 228,\n 5,\n 6,\n 1463,\n 4369,\n 5012,\n 134,\n 26,\n 4,\n 715,\n 8,\n 118,\n 1634,\n 14,\n 394,\n 20,\n 13,\n 119,\n 954,\n 189,\n 102,\n 5,\n 207,\n 110,\n 3103,\n 21,\n 14,\n 69,\n 188,\n 8,\n 30,\n 23,\n 7,\n 4,\n 249,\n 126,\n 93,\n 4,\n 114,\n 9,\n 2300,\n 1523,\n 5,\n 647,\n 4,\n 116,\n 9,\n 35,\n 8163,\n 4,\n 229,\n 9,\n 340,\n 1322,\n 4,\n 118,\n 9,\n 4,\n 130,\n 4901,\n 19,\n 4,\n 1002,\n 5,\n 89,\n 29,\n 952,\n 46,\n 37,\n 4,\n 455,\n 9,\n 45,\n 43,\n 38,\n 1543,\n 1905,\n 398,\n 4,\n 1649,\n 26,\n 6853,\n 5,\n 163,\n 11,\n 3215,\n 10156,\n 4,\n 1153,\n 9,\n 194,\n 775,\n 7,\n 8255,\n 11596,\n 349,\n 2637,\n 148,\n 605,\n 15358,\n 8003,\n 15,\n 123,\n 125,\n 68,\n 23141,\n 6853,\n 15,\n 349,\n 165,\n 4362,\n 98,\n 5,\n 4,\n 228,\n 9,\n 43,\n 36893,\n 1157,\n 15,\n 299,\n 120,\n 5,\n 120,\n 174,\n 11,\n 220,\n 175,\n 136,\n 50,\n 9,\n 4373,\n 228,\n 8255,\n 5,\n 25249,\n 656,\n 245,\n 2350,\n 5,\n 4,\n 9837,\n 131,\n 152,\n 491,\n 18,\n 46151,\n 32,\n 7464,\n 1212,\n 14,\n 9,\n 6,\n 371,\n 78,\n 22,\n 625,\n 64,\n 1382,\n 9,\n 8,\n 168,\n 145,\n 23,\n 4,\n 1690,\n 15,\n 16,\n 4,\n 1355,\n 5,\n 28,\n 6,\n 52,\n 154,\n 462,\n 33,\n 89,\n 78,\n 285,\n 16,\n 145,\n 95]"
     },
     "execution_count": 17,
     "metadata": {},
     "output_type": "execute_result"
    }
   ]
  },
  {
   "cell_type": "markdown",
   "metadata": {
    "id": "EAtZHE9-eQ07"
   },
   "source": [
    "### More Preprocessing\n",
    "If we have a look at some of our loaded in reviews, we'll notice that they are different lengths. This is an issue. We cannot pass different length data into our neural network. Therefore, we must make each review the same length. To do this we will follow the procedure below:\n",
    "- if the review is greater than 250 words then trim off the extra words\n",
    "- if the review is less than 250 words add the necessary amount of 0's to make it equal to 250.\n",
    "\n",
    "Luckily for us keras has a function that can do this for us:\n",
    "\n",
    "\n"
   ]
  },
  {
   "cell_type": "code",
   "metadata": {
    "id": "Z3qQ83sNeog6"
   },
   "source": [
    "train_data = sequence.pad_sequences(train_data, MAXLEN)\n",
    "test_data = sequence.pad_sequences(test_data, MAXLEN)"
   ],
   "execution_count": 18,
   "outputs": []
  },
  {
   "cell_type": "markdown",
   "metadata": {
    "id": "mDm_0RTVir7I"
   },
   "source": [
    "### Creating the Model\n",
    "Now it's time to create the model. We'll use a word embedding layer as the first layer in our model and add a LSTM layer afterwards that feeds into a dense node to get our predicted sentiment. \n",
    "\n",
    "32 stands for the output dimension of the vectors generated by the embedding layer. We can change this value if we'd like!"
   ]
  },
  {
   "cell_type": "code",
   "metadata": {
    "id": "OWGGcBIpjrMu"
   },
   "source": [
    "model = tf.keras.Sequential([\n",
    "    tf.keras.layers.Embedding(VOCAB_SIZE, 32),\n",
    "    tf.keras.layers.LSTM(32),\n",
    "    tf.keras.layers.Dense(1, activation=\"sigmoid\")\n",
    "])"
   ],
   "execution_count": 19,
   "outputs": []
  },
  {
   "cell_type": "code",
   "metadata": {
    "id": "O8_jPL_Kkr-a"
   },
   "source": [
    "model.summary()"
   ],
   "execution_count": 20,
   "outputs": [
    {
     "name": "stdout",
     "output_type": "stream",
     "text": [
      "Model: \"sequential_1\"\n",
      "_________________________________________________________________\n",
      " Layer (type)                Output Shape              Param #   \n",
      "=================================================================\n",
      " embedding_1 (Embedding)     (None, None, 32)          2834688   \n",
      "                                                                 \n",
      " lstm_1 (LSTM)               (None, 32)                8320      \n",
      "                                                                 \n",
      " dense_1 (Dense)             (None, 1)                 33        \n",
      "                                                                 \n",
      "=================================================================\n",
      "Total params: 2,843,041\n",
      "Trainable params: 2,843,041\n",
      "Non-trainable params: 0\n",
      "_________________________________________________________________\n"
     ]
    }
   ]
  },
  {
   "cell_type": "markdown",
   "metadata": {
    "id": "eyeQCk3LlK6V"
   },
   "source": [
    "### Training\n",
    "Now it's time to compile and train the model. "
   ]
  },
  {
   "cell_type": "code",
   "metadata": {
    "id": "KKEMjaIulPBe"
   },
   "source": [
    "model.compile(loss=\"binary_crossentropy\",optimizer=\"rmsprop\",metrics=['acc'])\n",
    "\n",
    "history = model.fit(train_data, train_labels, epochs=10, validation_split=0.2)"
   ],
   "execution_count": 21,
   "outputs": [
    {
     "name": "stdout",
     "output_type": "stream",
     "text": [
      "Epoch 1/10\n",
      "625/625 [==============================] - 36s 56ms/step - loss: 0.4140 - acc: 0.8132 - val_loss: 0.3092 - val_acc: 0.8748\n",
      "Epoch 2/10\n",
      "625/625 [==============================] - 35s 56ms/step - loss: 0.2416 - acc: 0.9092 - val_loss: 0.3307 - val_acc: 0.8838\n",
      "Epoch 3/10\n",
      "625/625 [==============================] - 35s 56ms/step - loss: 0.1850 - acc: 0.9322 - val_loss: 0.2792 - val_acc: 0.8868\n",
      "Epoch 4/10\n",
      "625/625 [==============================] - 35s 56ms/step - loss: 0.1509 - acc: 0.9459 - val_loss: 0.2889 - val_acc: 0.8904\n",
      "Epoch 5/10\n",
      "625/625 [==============================] - 35s 56ms/step - loss: 0.1304 - acc: 0.9546 - val_loss: 0.2963 - val_acc: 0.8858\n",
      "Epoch 6/10\n",
      "625/625 [==============================] - 36s 57ms/step - loss: 0.1100 - acc: 0.9621 - val_loss: 0.3383 - val_acc: 0.8918\n",
      "Epoch 7/10\n",
      "625/625 [==============================] - 36s 58ms/step - loss: 0.0982 - acc: 0.9668 - val_loss: 0.3462 - val_acc: 0.8878\n",
      "Epoch 8/10\n",
      "625/625 [==============================] - 37s 58ms/step - loss: 0.0886 - acc: 0.9708 - val_loss: 0.3251 - val_acc: 0.8886\n",
      "Epoch 9/10\n",
      "625/625 [==============================] - 36s 58ms/step - loss: 0.0771 - acc: 0.9743 - val_loss: 0.4726 - val_acc: 0.8716\n",
      "Epoch 10/10\n",
      "625/625 [==============================] - 36s 58ms/step - loss: 0.0711 - acc: 0.9772 - val_loss: 0.4356 - val_acc: 0.8772\n"
     ]
    }
   ]
  },
  {
   "cell_type": "markdown",
   "metadata": {
    "id": "3buYlkkhoK93"
   },
   "source": [
    "And we'll evaluate the model on our training data to see how well it performs."
   ]
  },
  {
   "cell_type": "code",
   "metadata": {
    "id": "KImNMWTDoJaQ"
   },
   "source": [
    "results = model.evaluate(test_data, test_labels)\n",
    "print(results)"
   ],
   "execution_count": 22,
   "outputs": [
    {
     "name": "stdout",
     "output_type": "stream",
     "text": [
      "  9/782 [..............................] - ETA: 12s - loss: 0.3706 - acc: 0.8924"
     ]
    },
    {
     "name": "stderr",
     "output_type": "stream",
     "text": [
      "2022-04-15 10:15:05.785594: W tensorflow/core/framework/cpu_allocator_impl.cc:82] Allocation of 25000000 exceeds 10% of free system memory.\n"
     ]
    },
    {
     "name": "stdout",
     "output_type": "stream",
     "text": [
      "782/782 [==============================] - 11s 14ms/step - loss: 0.5029 - acc: 0.8564\n",
      "[0.5028882622718811, 0.8563600182533264]\n"
     ]
    }
   ]
  },
  {
   "cell_type": "markdown",
   "metadata": {
    "id": "N1RRGcr9CFCW"
   },
   "source": [
    "So we're scoring somewhere in the mid-high 80's. Not bad for a simple recurrent network."
   ]
  },
  {
   "cell_type": "markdown",
   "metadata": {
    "id": "lGrBRC4YCObV"
   },
   "source": [
    "### Making Predictions\n",
    "Now let’s use our network to make predictions on our own reviews. \n",
    "\n",
    "Since our reviews are encoded well need to convert any review that we write into that form so the network can understand it. To do that well load the encodings from the dataset and use them to encode our own data.\n",
    "\n",
    "\n"
   ]
  },
  {
   "cell_type": "code",
   "metadata": {
    "id": "Onu8leY4Cn9z"
   },
   "source": [
    "word_index = imdb.get_word_index()\n",
    "\n",
    "def encode_text(text):\n",
    "  tokens = keras.preprocessing.text.text_to_word_sequence(text)\n",
    "  tokens = [word_index[word] if word in word_index else 0 for word in tokens]\n",
    "  return sequence.pad_sequences([tokens], MAXLEN)[0]\n",
    "\n",
    "text = \"that movie was just amazing, so amazing\"\n",
    "encoded = encode_text(text)\n",
    "print(encoded)\n"
   ],
   "execution_count": 23,
   "outputs": [
    {
     "name": "stdout",
     "output_type": "stream",
     "text": [
      "Downloading data from https://storage.googleapis.com/tensorflow/tf-keras-datasets/imdb_word_index.json\n",
      "1646592/1641221 [==============================] - 0s 0us/step\n",
      "1654784/1641221 [==============================] - 0s 0us/step\n",
      "[  0   0   0   0   0   0   0   0   0   0   0   0   0   0   0   0   0   0\n",
      "   0   0   0   0   0   0   0   0   0   0   0   0   0   0   0   0   0   0\n",
      "   0   0   0   0   0   0   0   0   0   0   0   0   0   0   0   0   0   0\n",
      "   0   0   0   0   0   0   0   0   0   0   0   0   0   0   0   0   0   0\n",
      "   0   0   0   0   0   0   0   0   0   0   0   0   0   0   0   0   0   0\n",
      "   0   0   0   0   0   0   0   0   0   0   0   0   0   0   0   0   0   0\n",
      "   0   0   0   0   0   0   0   0   0   0   0   0   0   0   0   0   0   0\n",
      "   0   0   0   0   0   0   0   0   0   0   0   0   0   0   0   0   0   0\n",
      "   0   0   0   0   0   0   0   0   0   0   0   0   0   0   0   0   0   0\n",
      "   0   0   0   0   0   0   0   0   0   0   0   0   0   0   0   0   0   0\n",
      "   0   0   0   0   0   0   0   0   0   0   0   0   0   0   0   0   0   0\n",
      "   0   0   0   0   0   0   0   0   0   0   0   0   0   0   0   0   0   0\n",
      "   0   0   0   0   0   0   0   0   0   0   0   0   0   0   0   0   0   0\n",
      "   0   0   0   0   0   0   0   0   0  12  17  13  40 477  35 477]\n"
     ]
    }
   ]
  },
  {
   "cell_type": "code",
   "metadata": {
    "id": "PKna3vxmFwrB"
   },
   "source": [
    "# while were at it lets make a decode function\n",
    "\n",
    "reverse_word_index = {value: key for (key, value) in word_index.items()}\n",
    "\n",
    "def decode_integers(integers):\n",
    "    PAD = 0\n",
    "    text = \"\"\n",
    "    for num in integers:\n",
    "      if num != PAD:\n",
    "        text += reverse_word_index[num] + \" \"\n",
    "\n",
    "    return text[:-1]\n",
    "  \n",
    "print(decode_integers(encoded))"
   ],
   "execution_count": 24,
   "outputs": [
    {
     "name": "stdout",
     "output_type": "stream",
     "text": [
      "that movie was just amazing so amazing\n"
     ]
    }
   ]
  },
  {
   "cell_type": "code",
   "metadata": {
    "id": "L8nyrr00HPZF"
   },
   "source": [
    "# now time to make a prediction\n",
    "\n",
    "def predict(text):\n",
    "  encoded_text = encode_text(text)\n",
    "  pred = np.zeros((1,250))\n",
    "  pred[0] = encoded_text\n",
    "  result = model.predict(pred) \n",
    "  print(result[0])\n",
    "\n",
    "positive_review = \"That movie was! really loved it and would great watch it again because it was amazingly great\"\n",
    "predict(positive_review)\n",
    "\n",
    "negative_review = \"that movie really sucked. I hated it and wouldn't watch it again. Was one of the worst things I've ever watched\"\n",
    "predict(negative_review)\n"
   ],
   "execution_count": 25,
   "outputs": [
    {
     "name": "stdout",
     "output_type": "stream",
     "text": [
      "[0.9091926]\n",
      "[0.41789213]\n"
     ]
    }
   ]
  },
  {
   "cell_type": "markdown",
   "metadata": {
    "id": "01BJLcGb4ZqK"
   },
   "source": [
    "## RNN Play Generator\n",
    "\n",
    "Now time for one of the coolest examples we've seen so far. We are going to use a RNN to generate a play. We will simply show the RNN an example of something we want it to recreate, and it will learn how to write a version of it on its own. We'll do this using a character predictive model that will take as input a variable length sequence and predict the next character. We can use the model many times in a row with the output from the last prediction as the input for the next call to generate a sequence.\n",
    "\n",
    "\n",
    "*This guide is based on the following: https://www.tensorflow.org/tutorials/text/text_generation*"
   ]
  },
  {
   "cell_type": "code",
   "metadata": {
    "id": "fju7i1FKrK_G"
   },
   "source": [
    "from keras.preprocessing import sequence\n",
    "import keras\n",
    "import tensorflow as tf\n",
    "import os\n",
    "import numpy as np"
   ],
   "execution_count": 27,
   "outputs": []
  },
  {
   "cell_type": "markdown",
   "metadata": {
    "id": "F48c-EctQ378"
   },
   "source": [
    "### Dataset\n",
    "For this example, we only need one piece of training data. In fact, we can write our own poem or play and pass that to the network for training if we'd like. However, to make things easy we'll use an extract from a Shakespeare play."
   ]
  },
  {
   "cell_type": "code",
   "metadata": {
    "id": "IdRcVIhtRGlF"
   },
   "source": [
    "path_to_file = tf.keras.utils.get_file('shakespeare.txt', 'https://storage.googleapis.com/download.tensorflow.org/data/shakespeare.txt')"
   ],
   "execution_count": 28,
   "outputs": [
    {
     "name": "stdout",
     "output_type": "stream",
     "text": [
      "Downloading data from https://storage.googleapis.com/download.tensorflow.org/data/shakespeare.txt\n",
      "1122304/1115394 [==============================] - 0s 0us/step\n",
      "1130496/1115394 [==============================] - 0s 0us/step\n"
     ]
    }
   ]
  },
  {
   "cell_type": "markdown",
   "metadata": {
    "id": "KtJMEqQyRhAk"
   },
   "source": [
    "### Read Contents of File\n",
    "Let's look at the contents of the file."
   ]
  },
  {
   "cell_type": "code",
   "metadata": {
    "id": "-n4oovOMRnP7"
   },
   "source": [
    "# Read, then decode for py2 compat.\n",
    "text = open(path_to_file, 'rb').read().decode(encoding='utf-8')\n",
    "# length of text is the number of characters in it\n",
    "print ('Length of text: {} characters'.format(len(text)))"
   ],
   "execution_count": 29,
   "outputs": [
    {
     "name": "stdout",
     "output_type": "stream",
     "text": [
      "Length of text: 1115394 characters\n"
     ]
    }
   ]
  },
  {
   "cell_type": "code",
   "metadata": {
    "id": "KHUxQVl7Rt10"
   },
   "source": [
    "# Take a look at the first 250 characters in text\n",
    "print(text[:250])"
   ],
   "execution_count": 30,
   "outputs": [
    {
     "name": "stdout",
     "output_type": "stream",
     "text": [
      "First Citizen:\n",
      "Before we proceed any further, hear me speak.\n",
      "\n",
      "All:\n",
      "Speak, speak.\n",
      "\n",
      "First Citizen:\n",
      "You are all resolved rather to die than to famish?\n",
      "\n",
      "All:\n",
      "Resolved. resolved.\n",
      "\n",
      "First Citizen:\n",
      "First, you know Caius Marcius is chief enemy to the people.\n",
      "\n"
     ]
    }
   ]
  },
  {
   "cell_type": "markdown",
   "metadata": {
    "id": "5vt8Vpe0RvaJ"
   },
   "source": [
    "### Encoding\n",
    "Since this text isn't encoded yet well need to do that ourselves. We are going to encode each unique character as a different integer."
   ]
  },
  {
   "cell_type": "code",
   "metadata": {
    "id": "C7AZNI7aRz6y"
   },
   "source": [
    "vocab = sorted(set(text))\n",
    "# Creating a mapping from unique characters to indices\n",
    "char2idx = {u:i for i, u in enumerate(vocab)}\n",
    "idx2char = np.array(vocab)\n",
    "\n",
    "def text_to_int(text):\n",
    "  return np.array([char2idx[c] for c in text])\n",
    "\n",
    "text_as_int = text_to_int(text)"
   ],
   "execution_count": 31,
   "outputs": []
  },
  {
   "cell_type": "code",
   "metadata": {
    "id": "_i5kvmX_SLW4"
   },
   "source": [
    "# lets look at how part of our text is encoded\n",
    "print(\"Text:\", text[:13])\n",
    "print(\"Encoded:\", text_to_int(text[:13]))"
   ],
   "execution_count": 32,
   "outputs": [
    {
     "name": "stdout",
     "output_type": "stream",
     "text": [
      "Text: First Citizen\n",
      "Encoded: [18 47 56 57 58  1 15 47 58 47 64 43 52]\n"
     ]
    }
   ]
  },
  {
   "cell_type": "markdown",
   "metadata": {
    "id": "mDvD5kqTWwOn"
   },
   "source": [
    "And here we will make a function that can convert our numeric values to text."
   ]
  },
  {
   "cell_type": "code",
   "metadata": {
    "id": "Af52YChSW5hX"
   },
   "source": [
    "def int_to_text(ints):\n",
    "  try:\n",
    "    ints = ints.numpy()\n",
    "  except:\n",
    "    pass\n",
    "  return ''.join(idx2char[ints])\n",
    "\n",
    "print(int_to_text(text_as_int[:13]))"
   ],
   "execution_count": 33,
   "outputs": [
    {
     "name": "stdout",
     "output_type": "stream",
     "text": [
      "First Citizen\n"
     ]
    }
   ]
  },
  {
   "cell_type": "markdown",
   "metadata": {
    "id": "T_49cl6uS0r-"
   },
   "source": [
    "### Creating Training Examples\n",
    "Remember our task is to feed the model a sequence and have it return to us the next character. This means we need to split our text data from above into many shorter sequences that we can pass to the model as training examples. \n",
    "\n",
    "The training examples we will prepare will use a *seq_length* sequence as input and a *seq_length* sequence as the output where that sequence is the original sequence shifted one letter to the right. For example:\n",
    "\n",
    "```input: Hell | output: ello```\n",
    "\n",
    "Our first step will be to create a stream of characters from our text data."
   ]
  },
  {
   "cell_type": "code",
   "metadata": {
    "id": "xBkXz9fjUQHW"
   },
   "source": [
    "seq_length = 100  # length of sequence for a training example\n",
    "examples_per_epoch = len(text)//(seq_length+1)\n",
    "\n",
    "# Create training examples / targets\n",
    "char_dataset = tf.data.Dataset.from_tensor_slices(text_as_int)"
   ],
   "execution_count": 35,
   "outputs": []
  },
  {
   "cell_type": "markdown",
   "metadata": {
    "id": "pqmxfT7gVGlr"
   },
   "source": [
    "Next we can use the batch method to turn this stream of characters into batches of desired length."
   ]
  },
  {
   "cell_type": "code",
   "metadata": {
    "id": "Xi0xaPB_VOJl"
   },
   "source": [
    "sequences = char_dataset.batch(seq_length+1, drop_remainder=True)"
   ],
   "execution_count": 36,
   "outputs": []
  },
  {
   "cell_type": "markdown",
   "metadata": {
    "id": "fxo1Dig_VvV1"
   },
   "source": [
    "Now we need to use these sequences of length 101 and split them into input and output."
   ]
  },
  {
   "cell_type": "code",
   "metadata": {
    "id": "03zKVHTvV0Km"
   },
   "source": [
    "def split_input_target(chunk):  # for the example: hello\n",
    "    input_text = chunk[:-1]  # hell\n",
    "    target_text = chunk[1:]  # ello\n",
    "    return input_text, target_text  # hell, ello\n",
    "\n",
    "dataset = sequences.map(split_input_target)  # we use map to apply the above function to every entry"
   ],
   "execution_count": 37,
   "outputs": []
  },
  {
   "cell_type": "code",
   "metadata": {
    "id": "9p_y2YmgWbnc"
   },
   "source": [
    "for x, y in dataset.take(2):\n",
    "  print(\"\\n\\nEXAMPLE\\n\")\n",
    "  print(\"INPUT\")\n",
    "  print(int_to_text(x))\n",
    "  print(\"\\nOUTPUT\")\n",
    "  print(int_to_text(y))"
   ],
   "execution_count": 38,
   "outputs": [
    {
     "name": "stdout",
     "output_type": "stream",
     "text": [
      "\n",
      "\n",
      "EXAMPLE\n",
      "\n",
      "INPUT\n",
      "First Citizen:\n",
      "Before we proceed any further, hear me speak.\n",
      "\n",
      "All:\n",
      "Speak, speak.\n",
      "\n",
      "First Citizen:\n",
      "You\n",
      "\n",
      "OUTPUT\n",
      "irst Citizen:\n",
      "Before we proceed any further, hear me speak.\n",
      "\n",
      "All:\n",
      "Speak, speak.\n",
      "\n",
      "First Citizen:\n",
      "You \n",
      "\n",
      "\n",
      "EXAMPLE\n",
      "\n",
      "INPUT\n",
      "are all resolved rather to die than to famish?\n",
      "\n",
      "All:\n",
      "Resolved. resolved.\n",
      "\n",
      "First Citizen:\n",
      "First, you \n",
      "\n",
      "OUTPUT\n",
      "re all resolved rather to die than to famish?\n",
      "\n",
      "All:\n",
      "Resolved. resolved.\n",
      "\n",
      "First Citizen:\n",
      "First, you k\n"
     ]
    }
   ]
  },
  {
   "cell_type": "markdown",
   "metadata": {
    "id": "v6OxuFKVXpwK"
   },
   "source": [
    "Finally, we need to make training batches."
   ]
  },
  {
   "cell_type": "code",
   "metadata": {
    "id": "cRsKcjhXXuoD"
   },
   "source": [
    "BATCH_SIZE = 64\n",
    "VOCAB_SIZE = len(vocab)  # vocab is number of unique characters\n",
    "EMBEDDING_DIM = 256\n",
    "RNN_UNITS = 1024\n",
    "\n",
    "# Buffer size to shuffle the dataset\n",
    "# (TF data is designed to work with possibly infinite sequences,\n",
    "# so it doesn't attempt to shuffle the entire sequence in memory. Instead,\n",
    "# it maintains a buffer in which it shuffles elements).\n",
    "BUFFER_SIZE = 10000\n",
    "\n",
    "data = dataset.shuffle(BUFFER_SIZE).batch(BATCH_SIZE, drop_remainder=True)"
   ],
   "execution_count": 39,
   "outputs": []
  },
  {
   "cell_type": "markdown",
   "metadata": {
    "id": "E6YRmZLtX0d0"
   },
   "source": [
    "### Building the Model\n",
    "Now it is time to build the model. We will use an embedding layer a LSTM and one dense layer that contains a node for each unique character in our training data. The dense layer will give us a probability distribution over all nodes."
   ]
  },
  {
   "cell_type": "code",
   "metadata": {
    "id": "5v_P2dEic4qt"
   },
   "source": [
    "def build_model(vocab_size, embedding_dim, rnn_units, batch_size):\n",
    "  model = tf.keras.Sequential([\n",
    "    tf.keras.layers.Embedding(vocab_size, embedding_dim,\n",
    "                              batch_input_shape=[batch_size, None]),\n",
    "    tf.keras.layers.LSTM(rnn_units,\n",
    "                        return_sequences=True,\n",
    "                        stateful=True,\n",
    "                        recurrent_initializer='glorot_uniform'),\n",
    "    tf.keras.layers.Dense(vocab_size)\n",
    "  ])\n",
    "  return model\n",
    "\n",
    "model = build_model(VOCAB_SIZE,EMBEDDING_DIM, RNN_UNITS, BATCH_SIZE)\n",
    "model.summary()"
   ],
   "execution_count": 40,
   "outputs": [
    {
     "name": "stdout",
     "output_type": "stream",
     "text": [
      "Model: \"sequential_2\"\n",
      "_________________________________________________________________\n",
      " Layer (type)                Output Shape              Param #   \n",
      "=================================================================\n",
      " embedding_2 (Embedding)     (64, None, 256)           16640     \n",
      "                                                                 \n",
      " lstm_2 (LSTM)               (64, None, 1024)          5246976   \n",
      "                                                                 \n",
      " dense_2 (Dense)             (64, None, 65)            66625     \n",
      "                                                                 \n",
      "=================================================================\n",
      "Total params: 5,330,241\n",
      "Trainable params: 5,330,241\n",
      "Non-trainable params: 0\n",
      "_________________________________________________________________\n"
     ]
    }
   ]
  },
  {
   "cell_type": "markdown",
   "metadata": {
    "id": "8gfnHBUOvPqE"
   },
   "source": [
    "### Creating a Loss Function\n",
    "Now we are going to create our own loss function for this problem. This is because our model will output a (64, sequence_length, 65) shaped tensor that represents the probability distribution of each character at each timestamp for every sequence in the batch."
   ]
  },
  {
   "cell_type": "markdown",
   "metadata": {
    "id": "g_ERM4F15v_S"
   },
   "source": [
    "However, before we do that let's have a look at a sample input and the output from our untrained model. This is so we can understand what the model is giving us."
   ]
  },
  {
   "cell_type": "code",
   "metadata": {
    "id": "KdvEqlwc6_q0"
   },
   "source": [
    "for input_example_batch, target_example_batch in data.take(1):\n",
    "  example_batch_predictions = model(input_example_batch)  # ask our model for a prediction on our first batch of training data (64 entries)\n",
    "  print(example_batch_predictions.shape, \"# (batch_size, sequence_length, vocab_size)\")  # print out the output shape"
   ],
   "execution_count": 41,
   "outputs": [
    {
     "name": "stdout",
     "output_type": "stream",
     "text": [
      "(64, 100, 65) # (batch_size, sequence_length, vocab_size)\n"
     ]
    },
    {
     "name": "stderr",
     "output_type": "stream",
     "text": [
      "2022-04-15 10:23:39.159603: W tensorflow/core/framework/cpu_allocator_impl.cc:82] Allocation of 26214400 exceeds 10% of free system memory.\n",
      "2022-04-15 10:23:39.163603: W tensorflow/core/framework/cpu_allocator_impl.cc:82] Allocation of 26214400 exceeds 10% of free system memory.\n"
     ]
    }
   ]
  },
  {
   "cell_type": "code",
   "metadata": {
    "id": "RQS5KXwi7_NX"
   },
   "source": [
    "# we can see that the predicition is an array of 64 arrays, one for each entry in the batch\n",
    "print(len(example_batch_predictions))\n",
    "print(example_batch_predictions)"
   ],
   "execution_count": 42,
   "outputs": [
    {
     "name": "stdout",
     "output_type": "stream",
     "text": [
      "64\n",
      "tf.Tensor(\n",
      "[[[ 9.0548079e-03  9.3645358e-04 -1.4895457e-05 ...  1.8942234e-03\n",
      "    1.7171411e-03  3.9058956e-03]\n",
      "  [ 4.9407901e-03 -1.2395688e-03 -3.3058063e-03 ...  2.6341836e-04\n",
      "    2.6325823e-04 -1.0411844e-03]\n",
      "  [ 1.0185687e-02 -2.1125451e-03  4.4156117e-03 ... -2.1931170e-03\n",
      "    5.3239195e-03 -7.8614186e-03]\n",
      "  ...\n",
      "  [ 7.0395330e-03 -7.0922687e-03 -4.6674404e-03 ...  6.2167365e-03\n",
      "    5.8572893e-03 -9.6460730e-03]\n",
      "  [ 2.2423977e-05 -9.2875818e-03 -4.6666390e-03 ...  6.1742789e-03\n",
      "    2.3104097e-03 -1.0836611e-02]\n",
      "  [-3.9214827e-04 -1.2385217e-02 -5.5381907e-03 ...  3.6701891e-03\n",
      "    6.4038904e-04 -1.3265030e-02]]\n",
      "\n",
      " [[ 2.0962798e-03  7.7670172e-04 -3.9497167e-03 ... -3.4006061e-03\n",
      "   -4.9561346e-03 -5.7946402e-04]\n",
      "  [ 6.8221975e-04  2.6311320e-03 -5.0828941e-03 ... -2.2764842e-03\n",
      "   -1.7372223e-03  3.0931786e-03]\n",
      "  [-2.3189832e-03  5.1130210e-03  3.6670431e-03 ... -3.0507671e-03\n",
      "   -7.0403935e-04  2.6696571e-04]\n",
      "  ...\n",
      "  [ 2.8348984e-03 -4.2759348e-05  5.0451502e-04 ...  2.6763389e-03\n",
      "    3.8758160e-03 -3.0605949e-04]\n",
      "  [ 7.7328528e-03 -3.9427984e-04  5.9923185e-03 ...  8.2521746e-04\n",
      "    1.0171484e-02 -6.2661842e-03]\n",
      "  [ 4.0472085e-03  5.3333729e-03  7.5760693e-03 ...  3.9752834e-03\n",
      "    8.0594579e-03 -2.0464063e-03]]\n",
      "\n",
      " [[ 2.3401687e-03  2.8977802e-03 -3.0728697e-03 ... -6.9489540e-04\n",
      "    4.8080008e-03 -5.6541087e-03]\n",
      "  [ 8.6789113e-03  1.6357304e-03  3.3960654e-03 ... -2.7851248e-03\n",
      "    1.0059198e-02 -9.9690445e-03]\n",
      "  [ 5.8848644e-03  6.9850469e-03  5.5269473e-03 ...  2.5982049e-04\n",
      "    7.5370902e-03 -4.6401983e-03]\n",
      "  ...\n",
      "  [ 1.7471374e-03 -4.1389051e-03 -5.2054278e-03 ... -3.7502148e-04\n",
      "    1.0345703e-02 -9.2945099e-03]\n",
      "  [ 8.0366833e-03 -4.7844127e-03  2.8779139e-03 ... -6.9207372e-04\n",
      "    1.3372678e-02 -1.3524574e-02]\n",
      "  [ 5.3880047e-03 -4.0871105e-03  3.4407084e-04 ...  8.2304003e-04\n",
      "    6.9119264e-03 -7.0070443e-03]]\n",
      "\n",
      " ...\n",
      "\n",
      " [[ 6.4889602e-03 -8.9895993e-04  6.3130721e-03 ... -2.4501535e-03\n",
      "    6.0902298e-03 -5.9051691e-03]\n",
      "  [ 3.8056974e-03  4.6429536e-03  8.1686554e-03 ...  3.9156200e-04\n",
      "    4.2614848e-03 -1.7331548e-03]\n",
      "  [ 1.6821998e-03  2.0187465e-03  2.2704983e-03 ...  7.6908851e-05\n",
      "    3.0305171e-03 -4.5546540e-03]\n",
      "  ...\n",
      "  [ 3.9442345e-03  2.0988870e-03  1.0735488e-02 ...  6.6623883e-03\n",
      "    1.5213958e-03 -2.4582795e-03]\n",
      "  [ 2.0231339e-03  7.2231831e-04  5.5595292e-03 ...  1.0962252e-02\n",
      "    3.2068244e-03  1.1111850e-02]\n",
      "  [ 4.1242521e-03 -2.7310732e-03 -4.9783401e-03 ...  1.3039229e-02\n",
      "    6.0843579e-03  7.1771466e-03]]\n",
      "\n",
      " [[ 6.4889602e-03 -8.9895993e-04  6.3130721e-03 ... -2.4501535e-03\n",
      "    6.0902298e-03 -5.9051691e-03]\n",
      "  [ 9.2897750e-03 -5.3544799e-03  9.3592762e-04 ... -5.3878943e-03\n",
      "   -2.2842612e-03 -5.7989112e-03]\n",
      "  [ 9.0445764e-03 -6.4711859e-03  6.2068724e-03 ...  3.7571318e-03\n",
      "   -7.3691779e-03  2.4223281e-03]\n",
      "  ...\n",
      "  [ 7.8935558e-03 -8.1420084e-03 -8.0703571e-03 ...  9.2253657e-03\n",
      "   -2.5441451e-04 -5.0424370e-03]\n",
      "  [ 3.6185747e-03 -4.8995186e-03  2.5238781e-03 ...  6.0414383e-03\n",
      "   -1.9199830e-03 -7.5479541e-03]\n",
      "  [ 3.5535486e-03  1.1550551e-03  5.6459359e-03 ...  7.0787901e-03\n",
      "   -2.3664911e-03 -4.2559230e-03]]\n",
      "\n",
      " [[-5.3435294e-03 -3.4689780e-03 -1.3181417e-03 ...  7.0166960e-04\n",
      "   -6.9789123e-04 -2.1107609e-03]\n",
      "  [ 5.9366797e-04 -8.1120217e-03 -3.9925217e-03 ... -3.8175546e-03\n",
      "   -6.1436747e-03 -3.8494526e-03]\n",
      "  [ 2.3804475e-03 -9.4987424e-03 -9.7392304e-03 ...  2.1006879e-03\n",
      "    2.0727655e-04 -4.1118911e-03]\n",
      "  ...\n",
      "  [ 1.7726671e-02  1.1248419e-03  8.6063202e-03 ...  1.2063338e-02\n",
      "    3.0342024e-04  7.1434476e-03]\n",
      "  [ 1.5524901e-02  3.5351521e-04  8.2523413e-03 ...  9.9484511e-03\n",
      "    1.9363244e-03  6.7927572e-03]\n",
      "  [ 8.6733568e-03  1.4214208e-03  1.4197366e-02 ...  5.6899618e-03\n",
      "    1.3135457e-03  2.6613993e-03]]], shape=(64, 100, 65), dtype=float32)\n"
     ]
    }
   ]
  },
  {
   "cell_type": "code",
   "metadata": {
    "id": "sA1Zhop28V9n"
   },
   "source": [
    "# lets examine one prediction\n",
    "pred = example_batch_predictions[0]\n",
    "print(len(pred))\n",
    "print(pred)\n",
    "# notice this is a 2d array of length 100, where each interior array is the prediction for the next character at each time step"
   ],
   "execution_count": 43,
   "outputs": [
    {
     "name": "stdout",
     "output_type": "stream",
     "text": [
      "100\n",
      "tf.Tensor(\n",
      "[[ 9.0548079e-03  9.3645358e-04 -1.4895457e-05 ...  1.8942234e-03\n",
      "   1.7171411e-03  3.9058956e-03]\n",
      " [ 4.9407901e-03 -1.2395688e-03 -3.3058063e-03 ...  2.6341836e-04\n",
      "   2.6325823e-04 -1.0411844e-03]\n",
      " [ 1.0185687e-02 -2.1125451e-03  4.4156117e-03 ... -2.1931170e-03\n",
      "   5.3239195e-03 -7.8614186e-03]\n",
      " ...\n",
      " [ 7.0395330e-03 -7.0922687e-03 -4.6674404e-03 ...  6.2167365e-03\n",
      "   5.8572893e-03 -9.6460730e-03]\n",
      " [ 2.2423977e-05 -9.2875818e-03 -4.6666390e-03 ...  6.1742789e-03\n",
      "   2.3104097e-03 -1.0836611e-02]\n",
      " [-3.9214827e-04 -1.2385217e-02 -5.5381907e-03 ...  3.6701891e-03\n",
      "   6.4038904e-04 -1.3265030e-02]], shape=(100, 65), dtype=float32)\n"
     ]
    }
   ]
  },
  {
   "cell_type": "code",
   "metadata": {
    "id": "UbIoe7Ei8q3q"
   },
   "source": [
    "# and finally well look at a prediction at the first timestep\n",
    "time_pred = pred[0]\n",
    "print(len(time_pred))\n",
    "print(time_pred)\n",
    "# and of course its 65 values representing the probabillity of each character occuring next"
   ],
   "execution_count": 44,
   "outputs": [
    {
     "name": "stdout",
     "output_type": "stream",
     "text": [
      "65\n",
      "tf.Tensor(\n",
      "[ 9.0548079e-03  9.3645358e-04 -1.4895457e-05  4.3687662e-03\n",
      "  1.9106449e-04  2.4531656e-03  5.0326157e-03  1.5446385e-03\n",
      "  2.4478850e-03  2.2429086e-03 -6.4607104e-03  1.9272997e-03\n",
      "  3.5179413e-03  2.1253263e-03 -7.6963333e-04  1.4979753e-04\n",
      "  1.9613388e-03  3.4501427e-03 -5.6773820e-04 -3.3282323e-03\n",
      " -4.2295144e-03 -7.3852716e-04  7.6104524e-03 -3.4162139e-03\n",
      "  4.4569504e-03  5.3996048e-03  9.1586739e-04 -2.3408793e-03\n",
      "  3.9158985e-03  6.8565866e-04  5.8580828e-03  3.3732674e-03\n",
      " -9.9529338e-05 -3.3093640e-04  3.5847973e-03  6.8220519e-04\n",
      "  2.8449646e-03  2.1876059e-03 -2.0102952e-03  4.3276884e-03\n",
      "  1.2762258e-03  1.3327543e-03 -2.0685927e-03 -1.0322394e-03\n",
      "  3.4120609e-03  1.3441185e-03  6.0261256e-04 -2.8952050e-03\n",
      " -9.9776243e-04 -3.1484680e-03 -4.1636499e-03 -3.7879297e-03\n",
      " -7.4061094e-04 -1.2221407e-03  1.6341198e-03 -7.2440291e-03\n",
      "  2.1807817e-03  7.8965146e-03 -8.3078729e-04  2.2705160e-03\n",
      "  3.0981447e-03 -9.9924905e-04  1.8942234e-03  1.7171411e-03\n",
      "  3.9058956e-03], shape=(65,), dtype=float32)\n"
     ]
    }
   ]
  },
  {
   "cell_type": "code",
   "metadata": {
    "id": "qlEYM1H995gR"
   },
   "source": [
    "# If we want to determine the predicted character we need to sample the output distribution (pick a value based on probabillity)\n",
    "sampled_indices = tf.random.categorical(pred, num_samples=1)\n",
    "\n",
    "# now we can reshape that array and convert all the integers to numbers to see the actual characters\n",
    "sampled_indices = np.reshape(sampled_indices, (1, -1))[0]\n",
    "predicted_chars = int_to_text(sampled_indices)\n",
    "\n",
    "predicted_chars  # and this is what the model predicted for training sequence 1"
   ],
   "execution_count": 45,
   "outputs": [
    {
     "data": {
      "text/plain": "\"L;.St-&bP3xIBXMq.x Ximv?\\nOovlbQdkiL\\nReWI;eLa-bLX;,PwFqaa-,GI?$ djMYKdea'AKzzu.kg3,'EtNUSKR3kTH.M ;Xq\""
     },
     "execution_count": 45,
     "metadata": {},
     "output_type": "execute_result"
    }
   ]
  },
  {
   "cell_type": "markdown",
   "metadata": {
    "id": "qcCBfPjN9Cnp"
   },
   "source": [
    "So now we need to create a loss function that can compare that output to the expected output and give us some numeric value representing how close the two were. "
   ]
  },
  {
   "cell_type": "code",
   "metadata": {
    "id": "ZOw23fWq9D9O"
   },
   "source": [
    "def loss(labels, logits):\n",
    "  return tf.keras.losses.sparse_categorical_crossentropy(labels, logits, from_logits=True)"
   ],
   "execution_count": 46,
   "outputs": []
  },
  {
   "cell_type": "markdown",
   "metadata": {
    "id": "kcg75GwXgW81"
   },
   "source": [
    "### Compiling the Model\n",
    "At this point we can think of our problem as a classification problem where the model predicts the probabillity of each unique letter coming next."
   ]
  },
  {
   "cell_type": "code",
   "metadata": {
    "id": "9g6o7zA_hAiS"
   },
   "source": [
    "model.compile(optimizer='adam', loss=loss)"
   ],
   "execution_count": 47,
   "outputs": []
  },
  {
   "cell_type": "markdown",
   "metadata": {
    "id": "YgDKr4yvjLPI"
   },
   "source": [
    "### Creating Checkpoints\n",
    "Now we are going to set up and configure our model to save checkpoints as it trains. This will allow us to load our model from a checkpoint and continue training it."
   ]
  },
  {
   "cell_type": "code",
   "metadata": {
    "id": "v7aMushYjSpy"
   },
   "source": [
    "# Directory where the checkpoints will be saved\n",
    "checkpoint_dir = './training_checkpoints'\n",
    "# Name of the checkpoint files\n",
    "checkpoint_prefix = os.path.join(checkpoint_dir, \"ckpt_{epoch}\")\n",
    "\n",
    "checkpoint_callback=tf.keras.callbacks.ModelCheckpoint(\n",
    "    filepath=checkpoint_prefix,\n",
    "    save_weights_only=True)"
   ],
   "execution_count": 48,
   "outputs": []
  },
  {
   "cell_type": "markdown",
   "metadata": {
    "id": "0p7acPvGja5c"
   },
   "source": [
    "### Training\n",
    "Finally, we will start training the model. \n",
    "\n",
    "**If this is taking a while go to Runtime > Change Runtime Type and choose \"GPU\" under hardware accelerator.**"
   ]
  },
  {
   "cell_type": "code",
   "metadata": {
    "id": "R4PAgrwMjZ4_"
   },
   "source": [
    "history = model.fit(data, epochs=1, callbacks=[checkpoint_callback])"
   ],
   "execution_count": 50,
   "outputs": [
    {
     "name": "stdout",
     "output_type": "stream",
     "text": [
      "172/172 [==============================] - 432s 3s/step - loss: 2.4553\n"
     ]
    }
   ]
  },
  {
   "cell_type": "markdown",
   "metadata": {
    "id": "9GhoHJVtmTsz"
   },
   "source": [
    "### Loading the Model\n",
    "We'll rebuild the model from a checkpoint using a batch_size of 1 so that we can feed one peice of text to the model and have it make a prediction."
   ]
  },
  {
   "cell_type": "code",
   "metadata": {
    "id": "TPSto3uimSKp"
   },
   "source": [
    "model = build_model(VOCAB_SIZE, EMBEDDING_DIM, RNN_UNITS, batch_size=1)"
   ],
   "execution_count": 51,
   "outputs": []
  },
  {
   "cell_type": "markdown",
   "metadata": {
    "id": "boEJvy_vjLJQ"
   },
   "source": [
    "Once the model is finished training, we can find the **latest checkpoint** that stores the models weights using the following line."
   ]
  },
  {
   "cell_type": "code",
   "metadata": {
    "id": "PZIEZWE4mNKl"
   },
   "source": [
    "model.load_weights(tf.train.latest_checkpoint(checkpoint_dir))\n",
    "model.build(tf.TensorShape([1, None]))"
   ],
   "execution_count": 52,
   "outputs": []
  },
  {
   "cell_type": "markdown",
   "metadata": {
    "id": "CmPPtbaTKF8d"
   },
   "source": [
    "We can load **any checkpoint** we want by specifying the exact file to load."
   ]
  },
  {
   "cell_type": "code",
   "metadata": {
    "id": "YQ_5p0ehKFDn"
   },
   "source": [
    "checkpoint_num = 1\n",
    "model.load_weights(tf.train.load_checkpoint(\"./training_checkpoints/ckpt_\" + str(checkpoint_num)))\n",
    "model.build(tf.TensorShape([1, None]))"
   ],
   "execution_count": 61,
   "outputs": [
    {
     "ename": "AttributeError",
     "evalue": "'tensorflow.python.util._pywrap_checkpoint_reader.C' object has no attribute 'endswith'",
     "output_type": "error",
     "traceback": [
      "\u001B[0;31m---------------------------------------------------------------------------\u001B[0m",
      "\u001B[0;31mAttributeError\u001B[0m                            Traceback (most recent call last)",
      "Input \u001B[0;32mIn [61]\u001B[0m, in \u001B[0;36m<cell line: 2>\u001B[0;34m()\u001B[0m\n\u001B[1;32m      1\u001B[0m checkpoint_num \u001B[38;5;241m=\u001B[39m \u001B[38;5;241m1\u001B[39m\n\u001B[0;32m----> 2\u001B[0m \u001B[43mmodel\u001B[49m\u001B[38;5;241;43m.\u001B[39;49m\u001B[43mload_weights\u001B[49m\u001B[43m(\u001B[49m\u001B[43mtf\u001B[49m\u001B[38;5;241;43m.\u001B[39;49m\u001B[43mtrain\u001B[49m\u001B[38;5;241;43m.\u001B[39;49m\u001B[43mload_checkpoint\u001B[49m\u001B[43m(\u001B[49m\u001B[38;5;124;43m\"\u001B[39;49m\u001B[38;5;124;43m./training_checkpoints/ckpt_\u001B[39;49m\u001B[38;5;124;43m\"\u001B[39;49m\u001B[43m \u001B[49m\u001B[38;5;241;43m+\u001B[39;49m\u001B[43m \u001B[49m\u001B[38;5;28;43mstr\u001B[39;49m\u001B[43m(\u001B[49m\u001B[43mcheckpoint_num\u001B[49m\u001B[43m)\u001B[49m\u001B[43m)\u001B[49m\u001B[43m)\u001B[49m\n\u001B[1;32m      3\u001B[0m model\u001B[38;5;241m.\u001B[39mbuild(tf\u001B[38;5;241m.\u001B[39mTensorShape([\u001B[38;5;241m1\u001B[39m, \u001B[38;5;28;01mNone\u001B[39;00m]))\n",
      "File \u001B[0;32m~/Dev/tensorflowCourse/venv/lib/python3.9/site-packages/keras/utils/traceback_utils.py:67\u001B[0m, in \u001B[0;36mfilter_traceback.<locals>.error_handler\u001B[0;34m(*args, **kwargs)\u001B[0m\n\u001B[1;32m     65\u001B[0m \u001B[38;5;28;01mexcept\u001B[39;00m \u001B[38;5;167;01mException\u001B[39;00m \u001B[38;5;28;01mas\u001B[39;00m e:  \u001B[38;5;66;03m# pylint: disable=broad-except\u001B[39;00m\n\u001B[1;32m     66\u001B[0m   filtered_tb \u001B[38;5;241m=\u001B[39m _process_traceback_frames(e\u001B[38;5;241m.\u001B[39m__traceback__)\n\u001B[0;32m---> 67\u001B[0m   \u001B[38;5;28;01mraise\u001B[39;00m e\u001B[38;5;241m.\u001B[39mwith_traceback(filtered_tb) \u001B[38;5;28;01mfrom\u001B[39;00m \u001B[38;5;28mNone\u001B[39m\n\u001B[1;32m     68\u001B[0m \u001B[38;5;28;01mfinally\u001B[39;00m:\n\u001B[1;32m     69\u001B[0m   \u001B[38;5;28;01mdel\u001B[39;00m filtered_tb\n",
      "File \u001B[0;32m~/Dev/tensorflowCourse/venv/lib/python3.9/site-packages/keras/saving/saving_utils.py:335\u001B[0m, in \u001B[0;36mis_hdf5_filepath\u001B[0;34m(filepath)\u001B[0m\n\u001B[1;32m    334\u001B[0m \u001B[38;5;28;01mdef\u001B[39;00m \u001B[38;5;21mis_hdf5_filepath\u001B[39m(filepath):\n\u001B[0;32m--> 335\u001B[0m   \u001B[38;5;28;01mreturn\u001B[39;00m (\u001B[43mfilepath\u001B[49m\u001B[38;5;241;43m.\u001B[39;49m\u001B[43mendswith\u001B[49m(\u001B[38;5;124m'\u001B[39m\u001B[38;5;124m.h5\u001B[39m\u001B[38;5;124m'\u001B[39m) \u001B[38;5;129;01mor\u001B[39;00m filepath\u001B[38;5;241m.\u001B[39mendswith(\u001B[38;5;124m'\u001B[39m\u001B[38;5;124m.keras\u001B[39m\u001B[38;5;124m'\u001B[39m) \u001B[38;5;129;01mor\u001B[39;00m\n\u001B[1;32m    336\u001B[0m           filepath\u001B[38;5;241m.\u001B[39mendswith(\u001B[38;5;124m'\u001B[39m\u001B[38;5;124m.hdf5\u001B[39m\u001B[38;5;124m'\u001B[39m))\n",
      "\u001B[0;31mAttributeError\u001B[0m: 'tensorflow.python.util._pywrap_checkpoint_reader.C' object has no attribute 'endswith'"
     ]
    }
   ]
  },
  {
   "cell_type": "markdown",
   "metadata": {
    "id": "KaZWalEeAxQN"
   },
   "source": [
    "### Generating Text\n",
    "Now we can use the lovely function provided by tensorflow to generate some text using any starting string we'd like."
   ]
  },
  {
   "cell_type": "code",
   "metadata": {
    "id": "oPSALdQXA3l3"
   },
   "source": [
    "def generate_text(model, start_string):\n",
    "  # Evaluation step (generating text using the learned model)\n",
    "\n",
    "  # Number of characters to generate\n",
    "  num_generate = 800\n",
    "\n",
    "  # Converting our start string to numbers (vectorizing)\n",
    "  input_eval = [char2idx[s] for s in start_string]\n",
    "  input_eval = tf.expand_dims(input_eval, 0)\n",
    "\n",
    "  # Empty string to store our results\n",
    "  text_generated = []\n",
    "\n",
    "  # Low temperatures results in more predictable text.\n",
    "  # Higher temperatures results in more surprising text.\n",
    "  # Experiment to find the best setting.\n",
    "  temperature = 1.0\n",
    "\n",
    "  # Here batch size == 1\n",
    "  model.reset_states()\n",
    "  for i in range(num_generate):\n",
    "      predictions = model(input_eval)\n",
    "      # remove the batch dimension\n",
    "    \n",
    "      predictions = tf.squeeze(predictions, 0)\n",
    "\n",
    "      # using a categorical distribution to predict the character returned by the model\n",
    "      predictions = predictions / temperature\n",
    "      predicted_id = tf.random.categorical(predictions, num_samples=1)[-1,0].numpy()\n",
    "\n",
    "      # We pass the predicted character as the next input to the model\n",
    "      # along with the previous hidden state\n",
    "      input_eval = tf.expand_dims([predicted_id], 0)\n",
    "\n",
    "      text_generated.append(idx2char[predicted_id])\n",
    "\n",
    "  return (start_string + ''.join(text_generated))"
   ],
   "execution_count": 57,
   "outputs": []
  },
  {
   "cell_type": "code",
   "metadata": {
    "id": "cAJqhD9AA5mF"
   },
   "source": [
    "inp = input(\"Type a starting string: \")\n",
    "print(generate_text(model, inp))"
   ],
   "execution_count": 58,
   "outputs": [
    {
     "name": "stdout",
     "output_type": "stream",
     "text": [
      "Williame,\n",
      "Iwhe kild, sherle se stillon us couth of the geand-'g hanser:\n",
      "Menis a astoss peant's am keed.\n",
      "\n",
      "LEUENIO:\n",
      "Nom dusk ou goud, Corfareas sery.\n",
      "\n",
      "QSEBE LORTRO:\n",
      "Hit ang with Cllides?\n",
      "\n",
      "QOENENE:\n",
      "Now, meres in and derven my mope stod.\n",
      "\n",
      "PAMENCE:\n",
      "Far in the mo; peak'inom ofem uno goors;\n",
      "These you as it liveas; and theredst I al\n",
      "fremenk: Sut the hinger rovel mad,\n",
      "Tike hert wood bats.\n",
      "I whou have lond rake he rames, conchadt geemulinbe?\n",
      "\n",
      "BENENFOCF:\n",
      "D RICKING'y fuven grame Sorslanced?\n",
      "\n",
      "KAMGL:\n",
      "Nor a reawth, tutt not my ao at a nowee that my\n",
      "Inould and ghas Whinn that hery, far it ip one\n",
      "Serestar:\n",
      "pet forly Iore,\n",
      "And to me, be, thaith om my tol\n",
      "Tot my dod aspist ont ullow ecrerccem.\n",
      "And brey s is what fou dore\n",
      "Well my ly brot thy worles thatkend,\n",
      "Whe eprecing, mes?\n",
      "I\n",
      "BENUNES:\n",
      "Whyen, wore not nom salt do \n"
     ]
    }
   ]
  },
  {
   "cell_type": "markdown",
   "metadata": {
    "id": "CBjHrzzyOBVr"
   },
   "source": [
    "*And* that's pretty much it for this module! I highly recommend messing with the model we just created and seeing what you can get it to do!"
   ]
  },
  {
   "cell_type": "markdown",
   "metadata": {
    "id": "Cw-1eDE54yQo"
   },
   "source": [
    "## Sources\n",
    "\n",
    "1. Chollet François. Deep Learning with Python. Manning Publications Co., 2018.\n",
    "2. “Text Classification with an RNN &nbsp;: &nbsp; TensorFlow Core.” TensorFlow, www.tensorflow.org/tutorials/text/text_classification_rnn.\n",
    "3. “Text Generation with an RNN &nbsp;: &nbsp; TensorFlow Core.” TensorFlow, www.tensorflow.org/tutorials/text/text_generation.\n",
    "4. “Understanding LSTM Networks.” Understanding LSTM Networks -- Colah's Blog, https://colah.github.io/posts/2015-08-Understanding-LSTMs/."
   ]
  },
  {
   "cell_type": "code",
   "execution_count": null,
   "outputs": [],
   "source": [],
   "metadata": {
    "collapsed": false,
    "pycharm": {
     "name": "#%%\n"
    }
   }
  }
 ]
}